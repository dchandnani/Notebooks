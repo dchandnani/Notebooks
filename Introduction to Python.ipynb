{
  "cells": [
    {
      "cell_type": "markdown",
      "source": [
        "<div style=\"text-align: center\"><img src=\"https://www.python.org/static/img/python-logo.png\"></div>"
      ],
      "metadata": {}
    },
    {
      "cell_type": "markdown",
      "source": [
        "# An informal introduction to Python\n",
        "\n",
        "Python is a popular programming language that is reliable, flexible, easy to learn, free to use on all operating systems, and supported by both a strong developer community and many free libraries. Python supports all manners of development, including web applications, web services, desktop apps, scripting, data science, scientific computing, and Jupyter notebooks. Python is a language used by many universities, scientists, casual developers, and professional developers alike.\n",
        "\n",
        "You can learn more about the language on [python.org](https://www.python.org/) and [Python for Beginners](https://www.python.org/about/gettingstarted/).\n",
        "\n",
        "This walkthrough is a Jupyter notebook version of the [python.org introductory tutorial](https://docs.python.org/3.5/tutorial/introduction.html), with some edits and amendments. Because all the code is inside code cells, you can just run each code cell inline rather than using a separate Python interactive window.\n",
        "\n",
        "This introduction is written for Python 3.6.7 but is generally applicable to other Python 3.x versions. \n",
        "\n",
        "The original material is Copyright (c) 2001-2018 Python Software Foundation.\n",
        "\n",
        "> **Note**: This notebook is designed to have you run code cells one by one, and several code cells contain deliberate errors for demonstration purposes. As a result, if you use the **Cell** > **Run All** command, some code cells past the error won't be run. To resume running the code in each case, use **Cell** > **Run All Below** from the cell after the error."
      ],
      "metadata": {}
    },
    {
      "cell_type": "markdown",
      "source": [
        "## Comments\n",
        "\n",
        "Many of the examples in this notebook include comments. Comments in Python start with the hash character, `#`, and extend to the end of the physical line. A comment may appear at the start of a line or following whitespace or code, but not within a string literal. A hash character within a string literal is just a hash character. Since comments are to clarify code and are not interpreted by Python, they may be omitted when typing in examples.\n",
        "\n",
        "Some examples:"
      ],
      "metadata": {}
    },
    {
      "cell_type": "code",
      "source": [
        "# this is the first comment\n",
        "spam = 1  # and this is the second comment\n",
        "          # ... and now a third!\n",
        "text = \"# This is not a comment because it's inside quotes.\"\n",
        "print(text)"
      ],
      "outputs": [
        {
          "output_type": "stream",
          "name": "stdout",
          "text": [
            "# This is not a comment because it's inside quotes.\n"
          ]
        }
      ],
      "execution_count": 2,
      "metadata": {
        "trusted": true,
        "execution": {
          "iopub.status.busy": "2020-04-20T22:59:02.014Z",
          "iopub.execute_input": "2020-04-20T22:59:02.033Z",
          "iopub.status.idle": "2020-04-20T22:59:02.060Z",
          "shell.execute_reply": "2020-04-20T22:59:00.412Z"
        }
      }
    },
    {
      "cell_type": "markdown",
      "source": [
        "## Explore basic data types\n",
        "\n",
        "Let's try some simple Python commands to explore numbers, strings, and lists."
      ],
      "metadata": {}
    },
    {
      "cell_type": "markdown",
      "source": [
        "### Numbers\n",
        "\n",
        "The Python interpreter can act as a simple calculator: type an expression at it outputs the value.\n",
        "\n",
        "Expression syntax is straightforward: the operators `+`, `-`, `*` and `/` work just like in most other programming languages (such as Pascal or C); parentheses (`()`) can be used for grouping and order or precedence. For example:"
      ],
      "metadata": {}
    },
    {
      "cell_type": "code",
      "source": [
        "2 + 2"
      ],
      "outputs": [
        {
          "output_type": "execute_result",
          "execution_count": 3,
          "data": {
            "text/plain": [
              "4"
            ]
          },
          "metadata": {}
        }
      ],
      "execution_count": 3,
      "metadata": {
        "trusted": true,
        "execution": {
          "shell.execute_reply": "2020-04-20T22:59:00.441Z",
          "iopub.status.busy": "2020-04-20T22:59:02.084Z",
          "iopub.execute_input": "2020-04-20T22:59:02.099Z",
          "iopub.status.idle": "2020-04-20T22:59:02.125Z"
        }
      }
    },
    {
      "cell_type": "code",
      "source": [
        "50 - 5*6"
      ],
      "outputs": [
        {
          "output_type": "execute_result",
          "execution_count": 4,
          "data": {
            "text/plain": [
              "20"
            ]
          },
          "metadata": {}
        }
      ],
      "execution_count": 4,
      "metadata": {
        "trusted": true,
        "execution": {
          "shell.execute_reply": "2020-04-20T22:59:00.462Z",
          "iopub.status.busy": "2020-04-20T22:59:02.149Z",
          "iopub.execute_input": "2020-04-20T22:59:02.166Z",
          "iopub.status.idle": "2020-04-20T22:59:02.192Z"
        }
      }
    },
    {
      "cell_type": "code",
      "source": [
        "(50 - 5*6) / 4"
      ],
      "outputs": [
        {
          "output_type": "execute_result",
          "execution_count": 5,
          "data": {
            "text/plain": [
              "5.0"
            ]
          },
          "metadata": {}
        }
      ],
      "execution_count": 5,
      "metadata": {
        "trusted": true,
        "execution": {
          "shell.execute_reply": "2020-04-20T22:59:00.481Z",
          "iopub.status.busy": "2020-04-20T22:59:02.218Z",
          "iopub.execute_input": "2020-04-20T22:59:02.234Z",
          "iopub.status.idle": "2020-04-20T22:59:02.261Z"
        }
      }
    },
    {
      "cell_type": "code",
      "source": [
        "8 / 5  # Division always returns a floating point number."
      ],
      "outputs": [
        {
          "output_type": "execute_result",
          "execution_count": 6,
          "data": {
            "text/plain": [
              "1.6"
            ]
          },
          "metadata": {}
        }
      ],
      "execution_count": 6,
      "metadata": {
        "trusted": true,
        "execution": {
          "shell.execute_reply": "2020-04-20T22:59:00.500Z",
          "iopub.status.busy": "2020-04-20T22:59:02.285Z",
          "iopub.execute_input": "2020-04-20T22:59:02.302Z",
          "iopub.status.idle": "2020-04-20T22:59:02.331Z"
        }
      }
    },
    {
      "cell_type": "markdown",
      "source": [
        "The integer numbers (e.g. `2`, `4`, `20`) have type [`int`](https://docs.python.org/3.5/library/functions.html#int), the ones with a fractional part (e.g. `5.0`, `1.6`) have type [`float`](https://docs.python.org/3.5/library/functions.html#float). We'll see more about numeric types later in the tutorial.\n",
        "\n",
        "Division (`/`) always returns a float. To do [floor division](https://docs.python.org/3.5/glossary.html#term-floor-division) and get an integer result (discarding any fractional result) you can use the `//` operator; to calculate the remainder you can use `%`:"
      ],
      "metadata": {}
    },
    {
      "cell_type": "code",
      "source": [
        "17 / 3  # Classic division returns a float."
      ],
      "outputs": [
        {
          "output_type": "execute_result",
          "execution_count": 7,
          "data": {
            "text/plain": [
              "5.666666666666667"
            ]
          },
          "metadata": {}
        }
      ],
      "execution_count": 7,
      "metadata": {
        "trusted": true,
        "execution": {
          "shell.execute_reply": "2020-04-20T22:59:00.518Z",
          "iopub.status.busy": "2020-04-20T22:59:02.360Z",
          "iopub.execute_input": "2020-04-20T22:59:02.378Z",
          "iopub.status.idle": "2020-04-20T22:59:02.410Z"
        }
      }
    },
    {
      "cell_type": "code",
      "source": [
        "17 // 3  # Floor division discards the fractional part."
      ],
      "outputs": [
        {
          "output_type": "execute_result",
          "execution_count": 8,
          "data": {
            "text/plain": [
              "5"
            ]
          },
          "metadata": {}
        }
      ],
      "execution_count": 8,
      "metadata": {
        "trusted": true,
        "execution": {
          "shell.execute_reply": "2020-04-20T22:59:00.570Z",
          "iopub.status.busy": "2020-04-20T22:59:02.438Z",
          "iopub.execute_input": "2020-04-20T22:59:02.455Z",
          "iopub.status.idle": "2020-04-20T22:59:02.481Z"
        }
      }
    },
    {
      "cell_type": "code",
      "source": [
        "17 % 3  # The % operator returns the remainder of the division."
      ],
      "outputs": [
        {
          "output_type": "execute_result",
          "execution_count": 9,
          "data": {
            "text/plain": [
              "2"
            ]
          },
          "metadata": {}
        }
      ],
      "execution_count": 9,
      "metadata": {
        "trusted": true,
        "execution": {
          "shell.execute_reply": "2020-04-20T22:59:00.606Z",
          "iopub.status.busy": "2020-04-20T22:59:02.506Z",
          "iopub.execute_input": "2020-04-20T22:59:02.521Z",
          "iopub.status.idle": "2020-04-20T22:59:02.548Z"
        }
      }
    },
    {
      "cell_type": "code",
      "source": [
        "5 * 3 + 2  # result * divisor + remainder"
      ],
      "outputs": [
        {
          "output_type": "execute_result",
          "execution_count": 10,
          "data": {
            "text/plain": [
              "17"
            ]
          },
          "metadata": {}
        }
      ],
      "execution_count": 10,
      "metadata": {
        "trusted": true,
        "execution": {
          "shell.execute_reply": "2020-04-20T22:59:00.626Z",
          "iopub.status.busy": "2020-04-20T22:59:02.573Z",
          "iopub.execute_input": "2020-04-20T22:59:02.591Z",
          "iopub.status.idle": "2020-04-20T22:59:02.618Z"
        }
      }
    },
    {
      "cell_type": "markdown",
      "source": [
        "Use the `**` operator to calculate powers:"
      ],
      "metadata": {}
    },
    {
      "cell_type": "code",
      "source": [
        "5 ** 2  # 5 squared"
      ],
      "outputs": [
        {
          "output_type": "execute_result",
          "execution_count": 11,
          "data": {
            "text/plain": [
              "25"
            ]
          },
          "metadata": {}
        }
      ],
      "execution_count": 11,
      "metadata": {
        "trusted": true,
        "execution": {
          "shell.execute_reply": "2020-04-20T22:59:00.650Z",
          "iopub.status.busy": "2020-04-20T22:59:02.644Z",
          "iopub.execute_input": "2020-04-20T22:59:02.660Z",
          "iopub.status.idle": "2020-04-20T22:59:02.687Z"
        }
      }
    },
    {
      "cell_type": "code",
      "source": [
        "2 ** 7  # 2 to the power of 7"
      ],
      "outputs": [
        {
          "output_type": "execute_result",
          "execution_count": 12,
          "data": {
            "text/plain": [
              "128"
            ]
          },
          "metadata": {}
        }
      ],
      "execution_count": 12,
      "metadata": {
        "trusted": true,
        "execution": {
          "shell.execute_reply": "2020-04-20T22:59:00.666Z",
          "iopub.status.busy": "2020-04-20T22:59:02.714Z",
          "iopub.execute_input": "2020-04-20T22:59:02.730Z",
          "iopub.status.idle": "2020-04-20T22:59:02.757Z"
        }
      }
    },
    {
      "cell_type": "markdown",
      "source": [
        "`**` has higher precedence than `-`; if you want a negative base, use parentheses:"
      ],
      "metadata": {}
    },
    {
      "cell_type": "code",
      "source": [
        "-3**2  # Same as -(3**2)"
      ],
      "outputs": [
        {
          "output_type": "execute_result",
          "execution_count": 13,
          "data": {
            "text/plain": [
              "-9"
            ]
          },
          "metadata": {}
        }
      ],
      "execution_count": 13,
      "metadata": {
        "trusted": true,
        "execution": {
          "shell.execute_reply": "2020-04-20T22:59:00.682Z",
          "iopub.status.busy": "2020-04-20T22:59:02.783Z",
          "iopub.execute_input": "2020-04-20T22:59:02.799Z",
          "iopub.status.idle": "2020-04-20T22:59:02.828Z"
        }
      }
    },
    {
      "cell_type": "code",
      "source": [
        "(-3)**2"
      ],
      "outputs": [
        {
          "output_type": "execute_result",
          "execution_count": 14,
          "data": {
            "text/plain": [
              "9"
            ]
          },
          "metadata": {}
        }
      ],
      "execution_count": 14,
      "metadata": {
        "trusted": true,
        "execution": {
          "shell.execute_reply": "2020-04-20T22:59:00.699Z",
          "iopub.status.busy": "2020-04-20T22:59:02.856Z",
          "iopub.execute_input": "2020-04-20T22:59:02.874Z",
          "iopub.status.idle": "2020-04-20T22:59:02.903Z"
        }
      }
    },
    {
      "cell_type": "markdown",
      "source": [
        "The equal sign (`=`) assigns a value to a variable:"
      ],
      "metadata": {}
    },
    {
      "cell_type": "code",
      "source": [
        "width = 20\n",
        "height = 5 * 90\n",
        "width * height"
      ],
      "outputs": [
        {
          "output_type": "execute_result",
          "execution_count": 15,
          "data": {
            "text/plain": [
              "9000"
            ]
          },
          "metadata": {}
        }
      ],
      "execution_count": 15,
      "metadata": {
        "trusted": true,
        "execution": {
          "shell.execute_reply": "2020-04-20T22:59:00.715Z",
          "iopub.status.busy": "2020-04-20T22:59:02.929Z",
          "iopub.execute_input": "2020-04-20T22:59:02.945Z",
          "iopub.status.idle": "2020-04-20T22:59:02.971Z"
        }
      }
    },
    {
      "cell_type": "markdown",
      "source": [
        "If a variable is not \"defined\" (assigned a value), using it produces an error:"
      ],
      "metadata": {}
    },
    {
      "cell_type": "code",
      "source": [
        "n  # Try to access an undefined variable."
      ],
      "outputs": [
        {
          "output_type": "error",
          "ename": "NameError",
          "evalue": "name 'n' is not defined",
          "traceback": [
            "\u001b[1;31m---------------------------------------------------------------------------\u001b[0m",
            "\u001b[1;31mNameError\u001b[0m                                 Traceback (most recent call last)",
            "\u001b[1;32m<ipython-input-16-2d383632fd8e>\u001b[0m in \u001b[0;36m<module>\u001b[1;34m\u001b[0m\n\u001b[1;32m----> 1\u001b[1;33m \u001b[0mn\u001b[0m  \u001b[1;31m# Try to access an undefined variable.\u001b[0m\u001b[1;33m\u001b[0m\u001b[1;33m\u001b[0m\u001b[0m\n\u001b[0m",
            "\u001b[1;31mNameError\u001b[0m: name 'n' is not defined"
          ]
        }
      ],
      "execution_count": 16,
      "metadata": {
        "trusted": true,
        "execution": {
          "shell.execute_reply": "2020-04-20T22:59:00.731Z",
          "iopub.status.busy": "2020-04-20T22:59:02.996Z",
          "iopub.execute_input": "2020-04-20T22:59:03.013Z",
          "iopub.status.idle": "2020-04-20T22:59:03.040Z"
        }
      }
    },
    {
      "cell_type": "markdown",
      "source": [
        "Python provides full support for floating point numbers; operators with mixed type operands convert the integer operand to floating point:"
      ],
      "metadata": {}
    },
    {
      "cell_type": "code",
      "source": [
        "3 * 3.75 / 1.5"
      ],
      "outputs": [
        {
          "output_type": "execute_result",
          "execution_count": 17,
          "data": {
            "text/plain": [
              "7.5"
            ]
          },
          "metadata": {}
        }
      ],
      "execution_count": 17,
      "metadata": {
        "trusted": true,
        "execution": {
          "shell.execute_reply": "2020-04-20T22:59:00.747Z",
          "iopub.status.busy": "2020-04-20T22:59:03.067Z",
          "iopub.execute_input": "2020-04-20T22:59:03.083Z",
          "iopub.status.idle": "2020-04-20T22:59:03.109Z"
        }
      }
    },
    {
      "cell_type": "code",
      "source": [
        "7.0 / 2"
      ],
      "outputs": [
        {
          "output_type": "execute_result",
          "execution_count": 18,
          "data": {
            "text/plain": [
              "3.5"
            ]
          },
          "metadata": {}
        }
      ],
      "execution_count": 18,
      "metadata": {
        "trusted": true,
        "execution": {
          "shell.execute_reply": "2020-04-20T22:59:00.764Z",
          "iopub.status.busy": "2020-04-20T22:59:03.136Z",
          "iopub.execute_input": "2020-04-20T22:59:03.153Z",
          "iopub.status.idle": "2020-04-20T22:59:03.180Z"
        }
      }
    },
    {
      "cell_type": "markdown",
      "source": [
        "In interactive mode and in Jupyter notebooks, the last printed expression is assigned to the variable `_`. This means that when you're using Python as a desk calculator, its somewhat easier to continue calculations. For example:"
      ],
      "metadata": {}
    },
    {
      "cell_type": "code",
      "source": [
        "tax = 12.5 / 100\n",
        "price = 100.50\n",
        "price * tax"
      ],
      "outputs": [
        {
          "output_type": "execute_result",
          "execution_count": 19,
          "data": {
            "text/plain": [
              "12.5625"
            ]
          },
          "metadata": {}
        }
      ],
      "execution_count": 19,
      "metadata": {
        "trusted": true,
        "execution": {
          "shell.execute_reply": "2020-04-20T22:59:00.780Z",
          "iopub.status.busy": "2020-04-20T22:59:03.206Z",
          "iopub.execute_input": "2020-04-20T22:59:03.223Z",
          "iopub.status.idle": "2020-04-20T22:59:03.251Z"
        }
      }
    },
    {
      "cell_type": "code",
      "source": [
        "price + _"
      ],
      "outputs": [
        {
          "output_type": "execute_result",
          "execution_count": 20,
          "data": {
            "text/plain": [
              "113.0625"
            ]
          },
          "metadata": {}
        }
      ],
      "execution_count": 20,
      "metadata": {
        "trusted": true,
        "execution": {
          "shell.execute_reply": "2020-04-20T22:59:00.797Z",
          "iopub.status.busy": "2020-04-20T22:59:03.277Z",
          "iopub.execute_input": "2020-04-20T22:59:03.294Z",
          "iopub.status.idle": "2020-04-20T22:59:03.323Z"
        }
      }
    },
    {
      "cell_type": "code",
      "source": [
        "round(_, 2)"
      ],
      "outputs": [
        {
          "output_type": "execute_result",
          "execution_count": 21,
          "data": {
            "text/plain": [
              "113.06"
            ]
          },
          "metadata": {}
        }
      ],
      "execution_count": 21,
      "metadata": {
        "trusted": true,
        "execution": {
          "shell.execute_reply": "2020-04-20T22:59:00.816Z",
          "iopub.status.busy": "2020-04-20T22:59:03.348Z",
          "iopub.execute_input": "2020-04-20T22:59:03.364Z",
          "iopub.status.idle": "2020-04-20T22:59:03.391Z"
        }
      }
    },
    {
      "cell_type": "markdown",
      "source": [
        "Treat the `_` variable as read-only. Don't explicitly assign a value to it--doing so creates an independent local variable with the same name, thereby masking the built-in variable with its magic behavior.\n",
        "\n",
        "In addition to `int` and `float`, Python supports other types of numbers, such as [`Decimal`](https://docs.python.org/3.5/library/decimal.html#decimal.Decimal) and [`Fraction`](https://docs.python.org/3.5/library/fractions.html#fractions.Fraction). Python also has built-in support for [complex numbers](https://docs.python.org/3.5/library/stdtypes.html#typesnumeric), and uses the `j` or `J` suffix to indicate the imaginary part (e.g. `3+5j`)."
      ],
      "metadata": {}
    },
    {
      "cell_type": "markdown",
      "source": [
        "### Strings"
      ],
      "metadata": {}
    },
    {
      "cell_type": "markdown",
      "source": [
        "Besides numbers, Python can also manipulate strings. Strings can enclosed in single quotes (`'...'`) or double quotes (`\"...\"`) with the same result. Use `\\` to escape quotes, that is, to use a quote within the string itself:"
      ],
      "metadata": {}
    },
    {
      "cell_type": "code",
      "source": [
        "'spam eggs'  # Single quotes."
      ],
      "outputs": [
        {
          "output_type": "execute_result",
          "execution_count": 22,
          "data": {
            "text/plain": [
              "'spam eggs'"
            ]
          },
          "metadata": {}
        }
      ],
      "execution_count": 22,
      "metadata": {
        "trusted": true,
        "execution": {
          "shell.execute_reply": "2020-04-20T22:59:00.832Z",
          "iopub.status.busy": "2020-04-20T22:59:03.416Z",
          "iopub.execute_input": "2020-04-20T22:59:03.433Z",
          "iopub.status.idle": "2020-04-20T22:59:03.463Z"
        }
      }
    },
    {
      "cell_type": "code",
      "source": [
        "'doesn\\'t'  # Use \\' to escape the single quote..."
      ],
      "outputs": [
        {
          "output_type": "execute_result",
          "execution_count": 23,
          "data": {
            "text/plain": [
              "\"doesn't\""
            ]
          },
          "metadata": {}
        }
      ],
      "execution_count": 23,
      "metadata": {
        "trusted": true,
        "execution": {
          "shell.execute_reply": "2020-04-20T22:59:00.849Z",
          "iopub.status.busy": "2020-04-20T22:59:03.490Z",
          "iopub.execute_input": "2020-04-20T22:59:03.509Z",
          "iopub.status.idle": "2020-04-20T22:59:03.537Z"
        }
      }
    },
    {
      "cell_type": "code",
      "source": [
        "\"doesn't\"  # ...or use double quotes instead."
      ],
      "outputs": [
        {
          "output_type": "execute_result",
          "execution_count": 24,
          "data": {
            "text/plain": [
              "\"doesn't\""
            ]
          },
          "metadata": {}
        }
      ],
      "execution_count": 24,
      "metadata": {
        "trusted": true,
        "execution": {
          "shell.execute_reply": "2020-04-20T22:59:00.868Z",
          "iopub.status.busy": "2020-04-20T22:59:03.562Z",
          "iopub.execute_input": "2020-04-20T22:59:03.578Z",
          "iopub.status.idle": "2020-04-20T22:59:03.605Z"
        }
      }
    },
    {
      "cell_type": "code",
      "source": [
        "'\"Yes,\" he said.'"
      ],
      "outputs": [
        {
          "output_type": "execute_result",
          "execution_count": 25,
          "data": {
            "text/plain": [
              "'\"Yes,\" he said.'"
            ]
          },
          "metadata": {}
        }
      ],
      "execution_count": 25,
      "metadata": {
        "trusted": true,
        "execution": {
          "shell.execute_reply": "2020-04-20T22:59:00.885Z",
          "iopub.status.busy": "2020-04-20T22:59:03.630Z",
          "iopub.execute_input": "2020-04-20T22:59:03.648Z",
          "iopub.status.idle": "2020-04-20T22:59:03.674Z"
        }
      }
    },
    {
      "cell_type": "code",
      "source": [
        "\"\\\"Yes,\\\" he said.\""
      ],
      "outputs": [
        {
          "output_type": "execute_result",
          "execution_count": 26,
          "data": {
            "text/plain": [
              "'\"Yes,\" he said.'"
            ]
          },
          "metadata": {}
        }
      ],
      "execution_count": 26,
      "metadata": {
        "trusted": true,
        "execution": {
          "shell.execute_reply": "2020-04-20T22:59:00.906Z",
          "iopub.status.busy": "2020-04-20T22:59:03.701Z",
          "iopub.execute_input": "2020-04-20T22:59:03.717Z",
          "iopub.status.idle": "2020-04-20T22:59:03.743Z"
        }
      }
    },
    {
      "cell_type": "code",
      "source": [
        "'\"Isn\\'t,\" she said.'"
      ],
      "outputs": [
        {
          "output_type": "execute_result",
          "execution_count": 27,
          "data": {
            "text/plain": [
              "'\"Isn\\'t,\" she said.'"
            ]
          },
          "metadata": {}
        }
      ],
      "execution_count": 27,
      "metadata": {
        "trusted": true,
        "execution": {
          "shell.execute_reply": "2020-04-20T22:59:00.931Z",
          "iopub.status.busy": "2020-04-20T22:59:03.771Z",
          "iopub.execute_input": "2020-04-20T22:59:03.789Z",
          "iopub.status.idle": "2020-04-20T22:59:03.818Z"
        }
      }
    },
    {
      "cell_type": "markdown",
      "source": [
        "In the interactive interpreter and Jupyter notebooks, the output string is enclosed in quotes and special characters are escaped with backslashes. Although this output sometimes looks different from the input (the enclosing quotes could change), the two strings are equivalent. The string is enclosed in double quotes if the string contains a single quote and no double quotes, otherwise its enclosed in single quotes. The [`print()`](https://docs.python.org/3.6/library/functions.html#print) function produces a more readable output by omitting the enclosing quotes and by printing escaped and special characters:"
      ],
      "metadata": {}
    },
    {
      "cell_type": "code",
      "source": [
        "'\"Isn\\'t,\" she said.'"
      ],
      "outputs": [
        {
          "output_type": "execute_result",
          "execution_count": 28,
          "data": {
            "text/plain": [
              "'\"Isn\\'t,\" she said.'"
            ]
          },
          "metadata": {}
        }
      ],
      "execution_count": 28,
      "metadata": {
        "trusted": true,
        "execution": {
          "shell.execute_reply": "2020-04-20T22:59:00.951Z",
          "iopub.status.busy": "2020-04-20T22:59:03.845Z",
          "iopub.execute_input": "2020-04-20T22:59:03.861Z",
          "iopub.status.idle": "2020-04-20T22:59:03.887Z"
        }
      }
    },
    {
      "cell_type": "code",
      "source": [
        "print('\"Isn\\'t,\" she said.')"
      ],
      "outputs": [
        {
          "output_type": "stream",
          "name": "stdout",
          "text": [
            "\"Isn't,\" she said.\n"
          ]
        }
      ],
      "execution_count": 29,
      "metadata": {
        "trusted": true,
        "execution": {
          "shell.execute_reply": "2020-04-20T22:59:00.973Z",
          "iopub.status.busy": "2020-04-20T22:59:03.913Z",
          "iopub.execute_input": "2020-04-20T22:59:03.929Z",
          "iopub.status.idle": "2020-04-20T22:59:03.957Z"
        }
      }
    },
    {
      "cell_type": "code",
      "source": [
        "s = 'First line.\\nSecond line.'  # \\n means newline.\n",
        "s  # Without print(), \\n is included in the output."
      ],
      "outputs": [
        {
          "output_type": "execute_result",
          "execution_count": 30,
          "data": {
            "text/plain": [
              "'First line.\\nSecond line.'"
            ]
          },
          "metadata": {}
        }
      ],
      "execution_count": 30,
      "metadata": {
        "trusted": true,
        "execution": {
          "shell.execute_reply": "2020-04-20T22:59:00.997Z",
          "iopub.status.busy": "2020-04-20T22:59:03.983Z",
          "iopub.execute_input": "2020-04-20T22:59:03.999Z",
          "iopub.status.idle": "2020-04-20T22:59:04.025Z"
        }
      }
    },
    {
      "cell_type": "code",
      "source": [
        "print(s)  # With print(), \\n produces a new line."
      ],
      "outputs": [
        {
          "output_type": "stream",
          "name": "stdout",
          "text": [
            "First line.\n",
            "Second line.\n"
          ]
        }
      ],
      "execution_count": 31,
      "metadata": {
        "trusted": true,
        "execution": {
          "shell.execute_reply": "2020-04-20T22:59:01.015Z",
          "iopub.status.busy": "2020-04-20T22:59:04.052Z",
          "iopub.execute_input": "2020-04-20T22:59:04.068Z",
          "iopub.status.idle": "2020-04-20T22:59:04.094Z"
        }
      }
    },
    {
      "cell_type": "markdown",
      "source": [
        "If you don't want escaped characters (prefaced by `\\`) to be interpreted as special characters, use *raw strings* by adding an `r` before the first quote:"
      ],
      "metadata": {}
    },
    {
      "cell_type": "code",
      "source": [
        "print('C:\\some\\name')  # Here \\n means newline!"
      ],
      "outputs": [
        {
          "output_type": "stream",
          "name": "stdout",
          "text": [
            "C:\\some\n",
            "ame\n"
          ]
        }
      ],
      "execution_count": 32,
      "metadata": {
        "trusted": true,
        "execution": {
          "shell.execute_reply": "2020-04-20T22:59:01.032Z",
          "iopub.status.busy": "2020-04-20T22:59:04.118Z",
          "iopub.execute_input": "2020-04-20T22:59:04.134Z",
          "iopub.status.idle": "2020-04-20T22:59:04.159Z"
        }
      }
    },
    {
      "cell_type": "code",
      "source": [
        "print(r'C:\\some\\name')  # Note the r before the quote."
      ],
      "outputs": [
        {
          "output_type": "stream",
          "name": "stdout",
          "text": [
            "C:\\some\\name\n"
          ]
        }
      ],
      "execution_count": 33,
      "metadata": {
        "trusted": true,
        "execution": {
          "shell.execute_reply": "2020-04-20T22:59:01.053Z",
          "iopub.status.busy": "2020-04-20T22:59:04.187Z",
          "iopub.execute_input": "2020-04-20T22:59:04.203Z",
          "iopub.status.idle": "2020-04-20T22:59:04.232Z"
        }
      }
    },
    {
      "cell_type": "markdown",
      "source": [
        "String literals can span multiple lines and are delineated by triple-quotes: `\"\"\"...\"\"\"` or `'''...'''`. End of lines are automatically included in the string, but it's possible to prevent this by adding a `\\` at the end of the line. For example, without a `\\`, the following example includes an extra line at the beginning of the output:"
      ],
      "metadata": {}
    },
    {
      "cell_type": "code",
      "source": [
        "print(\"\"\"\n",
        "Usage: thingy [OPTIONS]\n",
        "     -h                        Display this usage message\n",
        "     -H hostname               Hostname to connect to\n",
        "\"\"\")"
      ],
      "outputs": [
        {
          "output_type": "stream",
          "name": "stdout",
          "text": [
            "\n",
            "Usage: thingy [OPTIONS]\n",
            "     -h                        Display this usage message\n",
            "     -H hostname               Hostname to connect to\n",
            "\n"
          ]
        }
      ],
      "execution_count": 34,
      "metadata": {
        "trusted": true,
        "execution": {
          "shell.execute_reply": "2020-04-20T22:59:01.075Z",
          "iopub.status.busy": "2020-04-20T22:59:04.258Z",
          "iopub.execute_input": "2020-04-20T22:59:04.276Z",
          "iopub.status.idle": "2020-04-20T22:59:04.303Z"
        }
      }
    },
    {
      "cell_type": "markdown",
      "source": [
        "Adding a `\\` removes that extra line:"
      ],
      "metadata": {}
    },
    {
      "cell_type": "code",
      "source": [
        "print(\"\"\"\\\n",
        "Usage: thingy [OPTIONS]\n",
        "     -h                        Display this usage message\n",
        "     -H hostname               Hostname to connect to\n",
        "\"\"\")"
      ],
      "outputs": [
        {
          "output_type": "stream",
          "name": "stdout",
          "text": [
            "Usage: thingy [OPTIONS]\n",
            "     -h                        Display this usage message\n",
            "     -H hostname               Hostname to connect to\n",
            "\n"
          ]
        }
      ],
      "execution_count": 35,
      "metadata": {
        "trusted": true,
        "execution": {
          "shell.execute_reply": "2020-04-20T22:59:01.105Z",
          "iopub.status.busy": "2020-04-20T22:59:04.329Z",
          "iopub.execute_input": "2020-04-20T22:59:04.346Z",
          "iopub.status.idle": "2020-04-20T22:59:04.373Z"
        }
      }
    },
    {
      "cell_type": "markdown",
      "source": [
        "Because Python doesn't provide a means for creating multi-line comments, developers often just use triple quotes for this purpose. In a Jupyter notebook, however, such quotes define a string literal which appears as the output of a code cell:"
      ],
      "metadata": {}
    },
    {
      "cell_type": "code",
      "source": [
        "\"\"\"\n",
        "Everything between the first three quotes, including new lines,\n",
        "is part of the multi-line comment. Technically, the Python interpreter\n",
        "simply sees the comment as a string, and because it's not otherwise\n",
        "used in code, the string is ignored. Convenient, eh?\n",
        "\"\"\""
      ],
      "outputs": [
        {
          "output_type": "execute_result",
          "execution_count": 36,
          "data": {
            "text/plain": [
              "\"\\nEverything between the first three quotes, including new lines,\\nis part of the multi-line comment. Technically, the Python interpreter\\nsimply sees the comment as a string, and because it's not otherwise\\nused in code, the string is ignored. Convenient, eh?\\n\""
            ]
          },
          "metadata": {}
        }
      ],
      "execution_count": 36,
      "metadata": {
        "trusted": true,
        "execution": {
          "shell.execute_reply": "2020-04-20T22:59:01.126Z",
          "iopub.status.busy": "2020-04-20T22:59:04.401Z",
          "iopub.execute_input": "2020-04-20T22:59:04.416Z",
          "iopub.status.idle": "2020-04-20T22:59:04.441Z"
        }
      }
    },
    {
      "cell_type": "markdown",
      "source": [
        "For this reason, it's best in notebooks to use the `#` comment character at the beginning of each line, or better still, just use a Markdown cell!"
      ],
      "metadata": {}
    },
    {
      "cell_type": "markdown",
      "source": [
        "Strings can be *concatenated* (glued together) with the `+` operator, and repeated with `*`:"
      ],
      "metadata": {}
    },
    {
      "cell_type": "code",
      "source": [
        "# 3 times 'un', followed by 'ium'\n",
        "3 * 'un' + 'ium'"
      ],
      "outputs": [
        {
          "output_type": "execute_result",
          "execution_count": 37,
          "data": {
            "text/plain": [
              "'unununium'"
            ]
          },
          "metadata": {}
        }
      ],
      "execution_count": 37,
      "metadata": {
        "trusted": true,
        "execution": {
          "shell.execute_reply": "2020-04-20T22:59:01.144Z",
          "iopub.status.busy": "2020-04-20T22:59:04.469Z",
          "iopub.execute_input": "2020-04-20T22:59:04.486Z",
          "iopub.status.idle": "2020-04-20T22:59:04.512Z"
        }
      }
    },
    {
      "cell_type": "markdown",
      "source": [
        "Two or more *string literals* (that is, the values enclosed in quotes) placed next to each other are automatically concatenated:"
      ],
      "metadata": {}
    },
    {
      "cell_type": "code",
      "source": [
        "'Py' 'thon'"
      ],
      "outputs": [
        {
          "output_type": "execute_result",
          "execution_count": 38,
          "data": {
            "text/plain": [
              "'Python'"
            ]
          },
          "metadata": {}
        }
      ],
      "execution_count": 38,
      "metadata": {
        "trusted": true,
        "execution": {
          "shell.execute_reply": "2020-04-20T22:59:01.162Z",
          "iopub.status.busy": "2020-04-20T22:59:04.537Z",
          "iopub.execute_input": "2020-04-20T22:59:04.553Z",
          "iopub.status.idle": "2020-04-20T22:59:04.580Z"
        }
      }
    },
    {
      "cell_type": "markdown",
      "source": [
        "Automatic concatenation works only with two literals; it does not work with variables or expressions, so the following cell produces an error:"
      ],
      "metadata": {}
    },
    {
      "cell_type": "code",
      "source": [
        "prefix = 'Py'\n",
        "prefix 'thon'  # Can't concatenate a variable and a string literal."
      ],
      "outputs": [
        {
          "output_type": "error",
          "ename": "SyntaxError",
          "evalue": "invalid syntax (<ipython-input-39-00ad70cd97bc>, line 2)",
          "traceback": [
            "\u001b[1;36m  File \u001b[1;32m\"<ipython-input-39-00ad70cd97bc>\"\u001b[1;36m, line \u001b[1;32m2\u001b[0m\n\u001b[1;33m    prefix 'thon'  # Can't concatenate a variable and a string literal.\u001b[0m\n\u001b[1;37m                ^\u001b[0m\n\u001b[1;31mSyntaxError\u001b[0m\u001b[1;31m:\u001b[0m invalid syntax\n"
          ]
        }
      ],
      "execution_count": 39,
      "metadata": {
        "trusted": true,
        "execution": {
          "shell.execute_reply": "2020-04-20T22:59:01.212Z",
          "iopub.status.busy": "2020-04-20T22:59:04.606Z",
          "iopub.execute_input": "2020-04-20T22:59:04.622Z",
          "iopub.status.idle": "2020-04-20T22:59:04.650Z"
        }
      }
    },
    {
      "cell_type": "markdown",
      "source": [
        "The following cell likewise produces an error:"
      ],
      "metadata": {}
    },
    {
      "cell_type": "code",
      "source": [
        "('un' * 3) 'ium'"
      ],
      "outputs": [
        {
          "output_type": "error",
          "ename": "SyntaxError",
          "evalue": "invalid syntax (<ipython-input-40-f4764cbe42a8>, line 1)",
          "traceback": [
            "\u001b[1;36m  File \u001b[1;32m\"<ipython-input-40-f4764cbe42a8>\"\u001b[1;36m, line \u001b[1;32m1\u001b[0m\n\u001b[1;33m    ('un' * 3) 'ium'\u001b[0m\n\u001b[1;37m                   ^\u001b[0m\n\u001b[1;31mSyntaxError\u001b[0m\u001b[1;31m:\u001b[0m invalid syntax\n"
          ]
        }
      ],
      "execution_count": 40,
      "metadata": {
        "trusted": true,
        "execution": {
          "shell.execute_reply": "2020-04-20T22:59:01.230Z",
          "iopub.status.busy": "2020-04-20T22:59:04.675Z",
          "iopub.execute_input": "2020-04-20T22:59:04.691Z",
          "iopub.status.idle": "2020-04-20T22:59:04.717Z"
        }
      }
    },
    {
      "cell_type": "markdown",
      "source": [
        "To concatenate variables, or a variable and a literal, use `+`:"
      ],
      "metadata": {}
    },
    {
      "cell_type": "code",
      "source": [
        "prefix = 'Py'\n",
        "prefix + 'thon'"
      ],
      "outputs": [
        {
          "output_type": "execute_result",
          "execution_count": 41,
          "data": {
            "text/plain": [
              "'Python'"
            ]
          },
          "metadata": {}
        }
      ],
      "execution_count": 41,
      "metadata": {
        "trusted": true,
        "execution": {
          "shell.execute_reply": "2020-04-20T22:59:01.258Z",
          "iopub.status.busy": "2020-04-20T22:59:04.743Z",
          "iopub.execute_input": "2020-04-20T22:59:04.759Z",
          "iopub.status.idle": "2020-04-20T22:59:04.787Z"
        }
      }
    },
    {
      "cell_type": "markdown",
      "source": [
        "Automatic concatenation is particularly useful when you want to break up long strings:"
      ],
      "metadata": {}
    },
    {
      "cell_type": "code",
      "source": [
        "text = ('Put several strings within parentheses '\n",
        "            'to have them joined together.')\n",
        "text"
      ],
      "outputs": [
        {
          "output_type": "execute_result",
          "execution_count": 42,
          "data": {
            "text/plain": [
              "'Put several strings within parentheses to have them joined together.'"
            ]
          },
          "metadata": {}
        }
      ],
      "execution_count": 42,
      "metadata": {
        "trusted": true,
        "execution": {
          "shell.execute_reply": "2020-04-20T22:59:01.275Z",
          "iopub.status.busy": "2020-04-20T22:59:04.814Z",
          "iopub.execute_input": "2020-04-20T22:59:04.830Z",
          "iopub.status.idle": "2020-04-20T22:59:04.857Z"
        }
      }
    },
    {
      "cell_type": "markdown",
      "source": [
        "Strings can be *indexed* (subscripted), with the first character having index 0. There is no separate character type; a character is simply a string of size one:"
      ],
      "metadata": {}
    },
    {
      "cell_type": "code",
      "source": [
        "word = 'Python'\n",
        "word[0]  # Character in position 0."
      ],
      "outputs": [
        {
          "output_type": "execute_result",
          "execution_count": 43,
          "data": {
            "text/plain": [
              "'P'"
            ]
          },
          "metadata": {}
        }
      ],
      "execution_count": 43,
      "metadata": {
        "trusted": true,
        "execution": {
          "shell.execute_reply": "2020-04-20T22:59:01.293Z",
          "iopub.status.busy": "2020-04-20T22:59:04.883Z",
          "iopub.execute_input": "2020-04-20T22:59:04.899Z",
          "iopub.status.idle": "2020-04-20T22:59:04.926Z"
        }
      }
    },
    {
      "cell_type": "code",
      "source": [
        "word[5]  # Character in position 5."
      ],
      "outputs": [
        {
          "output_type": "execute_result",
          "execution_count": 44,
          "data": {
            "text/plain": [
              "'n'"
            ]
          },
          "metadata": {}
        }
      ],
      "execution_count": 44,
      "metadata": {
        "trusted": true,
        "execution": {
          "shell.execute_reply": "2020-04-20T22:59:01.311Z",
          "iopub.status.busy": "2020-04-20T22:59:04.952Z",
          "iopub.execute_input": "2020-04-20T22:59:04.970Z",
          "iopub.status.idle": "2020-04-20T22:59:04.997Z"
        }
      }
    },
    {
      "cell_type": "markdown",
      "source": [
        "Indices may also be negative numbers, which means to start counting from the end of the string. Note that because -0 is the same as 0, negative indices start from -1:"
      ],
      "metadata": {}
    },
    {
      "cell_type": "code",
      "source": [
        "word[-1]  # Last character."
      ],
      "outputs": [
        {
          "output_type": "execute_result",
          "execution_count": 45,
          "data": {
            "text/plain": [
              "'n'"
            ]
          },
          "metadata": {}
        }
      ],
      "execution_count": 45,
      "metadata": {
        "trusted": true,
        "execution": {
          "shell.execute_reply": "2020-04-20T22:59:01.329Z",
          "iopub.status.busy": "2020-04-20T22:59:05.023Z",
          "iopub.execute_input": "2020-04-20T22:59:05.039Z",
          "iopub.status.idle": "2020-04-20T22:59:05.065Z"
        }
      }
    },
    {
      "cell_type": "code",
      "source": [
        "word[-2]  # Second-last character."
      ],
      "outputs": [
        {
          "output_type": "execute_result",
          "execution_count": 46,
          "data": {
            "text/plain": [
              "'o'"
            ]
          },
          "metadata": {}
        }
      ],
      "execution_count": 46,
      "metadata": {
        "trusted": true,
        "execution": {
          "shell.execute_reply": "2020-04-20T22:59:01.346Z",
          "iopub.status.busy": "2020-04-20T22:59:05.090Z",
          "iopub.execute_input": "2020-04-20T22:59:05.108Z",
          "iopub.status.idle": "2020-04-20T22:59:05.135Z"
        }
      }
    },
    {
      "cell_type": "code",
      "source": [
        "word[-6]"
      ],
      "outputs": [
        {
          "output_type": "execute_result",
          "execution_count": 47,
          "data": {
            "text/plain": [
              "'P'"
            ]
          },
          "metadata": {}
        }
      ],
      "execution_count": 47,
      "metadata": {
        "trusted": true,
        "execution": {
          "shell.execute_reply": "2020-04-20T22:59:01.363Z",
          "iopub.status.busy": "2020-04-20T22:59:05.160Z",
          "iopub.execute_input": "2020-04-20T22:59:05.176Z",
          "iopub.status.idle": "2020-04-20T22:59:05.203Z"
        }
      }
    },
    {
      "cell_type": "markdown",
      "source": [
        "In addition to indexing, which extracts individual characters, Python also supports *slicing*, which extracts a substring. To slide, you indicate a *range* in the format `start:end`, where the start position is included but the end position is excluded:"
      ],
      "metadata": {}
    },
    {
      "cell_type": "code",
      "source": [
        "word[0:2]  # Characters from position 0 (included) to 2 (excluded)."
      ],
      "outputs": [
        {
          "output_type": "execute_result",
          "execution_count": 48,
          "data": {
            "text/plain": [
              "'Py'"
            ]
          },
          "metadata": {}
        }
      ],
      "execution_count": 48,
      "metadata": {
        "trusted": true,
        "execution": {
          "shell.execute_reply": "2020-04-20T22:59:01.382Z",
          "iopub.status.busy": "2020-04-20T22:59:05.227Z",
          "iopub.execute_input": "2020-04-20T22:59:05.243Z",
          "iopub.status.idle": "2020-04-20T22:59:05.271Z"
        }
      }
    },
    {
      "cell_type": "code",
      "source": [
        "word[2:5]  # Characters from position 2 (included) to 5 (excluded)."
      ],
      "outputs": [
        {
          "output_type": "execute_result",
          "execution_count": 49,
          "data": {
            "text/plain": [
              "'tho'"
            ]
          },
          "metadata": {}
        }
      ],
      "execution_count": 49,
      "metadata": {
        "trusted": true,
        "execution": {
          "shell.execute_reply": "2020-04-20T22:59:01.399Z",
          "iopub.status.busy": "2020-04-20T22:59:05.298Z",
          "iopub.execute_input": "2020-04-20T22:59:05.315Z",
          "iopub.status.idle": "2020-04-20T22:59:05.340Z"
        }
      }
    },
    {
      "cell_type": "markdown",
      "source": [
        "If you omit either position, the default start position is 0 and the default end is the length of the string:"
      ],
      "metadata": {}
    },
    {
      "cell_type": "code",
      "source": [
        "word[:2]   # Character from the beginning to position 2 (excluded)."
      ],
      "outputs": [
        {
          "output_type": "execute_result",
          "execution_count": 50,
          "data": {
            "text/plain": [
              "'Py'"
            ]
          },
          "metadata": {}
        }
      ],
      "execution_count": 50,
      "metadata": {
        "trusted": true,
        "execution": {
          "shell.execute_reply": "2020-04-20T22:59:01.417Z",
          "iopub.status.busy": "2020-04-20T22:59:05.366Z",
          "iopub.execute_input": "2020-04-20T22:59:05.382Z",
          "iopub.status.idle": "2020-04-20T22:59:05.409Z"
        }
      }
    },
    {
      "cell_type": "code",
      "source": [
        "word[4:]  # Characters from position 4 (included) to the end."
      ],
      "outputs": [
        {
          "output_type": "execute_result",
          "execution_count": 51,
          "data": {
            "text/plain": [
              "'on'"
            ]
          },
          "metadata": {}
        }
      ],
      "execution_count": 51,
      "metadata": {
        "trusted": true,
        "execution": {
          "shell.execute_reply": "2020-04-20T22:59:01.439Z",
          "iopub.status.busy": "2020-04-20T22:59:05.435Z",
          "iopub.execute_input": "2020-04-20T22:59:05.453Z",
          "iopub.status.idle": "2020-04-20T22:59:05.484Z"
        }
      }
    },
    {
      "cell_type": "code",
      "source": [
        "word[-2:] # Characters from the second-last (included) to the end."
      ],
      "outputs": [
        {
          "output_type": "execute_result",
          "execution_count": 52,
          "data": {
            "text/plain": [
              "'on'"
            ]
          },
          "metadata": {}
        }
      ],
      "execution_count": 52,
      "metadata": {
        "trusted": true,
        "execution": {
          "shell.execute_reply": "2020-04-20T22:59:01.456Z",
          "iopub.status.busy": "2020-04-20T22:59:05.510Z",
          "iopub.execute_input": "2020-04-20T22:59:05.526Z",
          "iopub.status.idle": "2020-04-20T22:59:05.556Z"
        }
      }
    },
    {
      "cell_type": "markdown",
      "source": [
        "This characteristic means that `s[:i] + s[i:]` is always equal to `s`:"
      ],
      "metadata": {}
    },
    {
      "cell_type": "code",
      "source": [
        "word[:2] + word[2:]"
      ],
      "outputs": [
        {
          "output_type": "execute_result",
          "execution_count": 53,
          "data": {
            "text/plain": [
              "'Python'"
            ]
          },
          "metadata": {}
        }
      ],
      "execution_count": 53,
      "metadata": {
        "trusted": true,
        "execution": {
          "shell.execute_reply": "2020-04-20T22:59:01.479Z",
          "iopub.status.busy": "2020-04-20T22:59:05.582Z",
          "iopub.execute_input": "2020-04-20T22:59:05.599Z",
          "iopub.status.idle": "2020-04-20T22:59:05.628Z"
        }
      }
    },
    {
      "cell_type": "code",
      "source": [
        "word[:4] + word[4:]"
      ],
      "outputs": [
        {
          "output_type": "execute_result",
          "execution_count": 54,
          "data": {
            "text/plain": [
              "'Python'"
            ]
          },
          "metadata": {}
        }
      ],
      "execution_count": 54,
      "metadata": {
        "trusted": true,
        "execution": {
          "shell.execute_reply": "2020-04-20T22:59:01.495Z",
          "iopub.status.busy": "2020-04-20T22:59:05.655Z",
          "iopub.execute_input": "2020-04-20T22:59:05.672Z",
          "iopub.status.idle": "2020-04-20T22:59:05.700Z"
        }
      }
    },
    {
      "cell_type": "markdown",
      "source": [
        "One way to remember how slices work is to think of the indices as pointing between characters, with the left edge of the first character numbered 0. Then the right edge of the last character of a string of *n* characters has index *n*. For example:"
      ],
      "metadata": {}
    },
    {
      "cell_type": "raw",
      "source": [
        " +---+---+---+---+---+---+\n",
        " | P | y | t | h | o | n |\n",
        " +---+---+---+---+---+---+\n",
        " 0   1   2   3   4   5   6\n",
        "-6  -5  -4  -3  -2  -1"
      ],
      "metadata": {}
    },
    {
      "cell_type": "markdown",
      "source": [
        "The first row of numbers gives the position of the indices 0...6 in the string; the second row gives the corresponding negative indices. The slice from *i* to *j* consists of all characters between the edges labeled *i* and *j*, respectively.\n",
        "\n",
        "For non-negative indices, the length of a slice is the difference of the indices, if both are within bounds. For example, the length of `word[1:3]` is 2.\n",
        "\n",
        "Attempting to use an index that is too large results in an error:"
      ],
      "metadata": {}
    },
    {
      "cell_type": "code",
      "source": [
        "word[42]  # The word only has 6 characters."
      ],
      "outputs": [
        {
          "output_type": "error",
          "ename": "IndexError",
          "evalue": "string index out of range",
          "traceback": [
            "\u001b[1;31m---------------------------------------------------------------------------\u001b[0m",
            "\u001b[1;31mIndexError\u001b[0m                                Traceback (most recent call last)",
            "\u001b[1;32m<ipython-input-55-e894f93573ea>\u001b[0m in \u001b[0;36m<module>\u001b[1;34m\u001b[0m\n\u001b[1;32m----> 1\u001b[1;33m \u001b[0mword\u001b[0m\u001b[1;33m[\u001b[0m\u001b[1;36m42\u001b[0m\u001b[1;33m]\u001b[0m  \u001b[1;31m# The word only has 6 characters.\u001b[0m\u001b[1;33m\u001b[0m\u001b[1;33m\u001b[0m\u001b[0m\n\u001b[0m",
            "\u001b[1;31mIndexError\u001b[0m: string index out of range"
          ]
        }
      ],
      "execution_count": 55,
      "metadata": {
        "trusted": true,
        "execution": {
          "shell.execute_reply": "2020-04-20T22:59:01.513Z",
          "iopub.status.busy": "2020-04-20T22:59:05.725Z",
          "iopub.execute_input": "2020-04-20T22:59:05.741Z",
          "iopub.status.idle": "2020-04-20T22:59:05.766Z"
        }
      }
    },
    {
      "cell_type": "markdown",
      "source": [
        "However, when used in a range, an index that's too large defaults to the size of the string and does not give an error. This characteristic is useful when you always want to slice at a particular index regardless of the length of a string:"
      ],
      "metadata": {}
    },
    {
      "cell_type": "code",
      "source": [
        "word[4:42]"
      ],
      "outputs": [
        {
          "output_type": "execute_result",
          "execution_count": 56,
          "data": {
            "text/plain": [
              "'on'"
            ]
          },
          "metadata": {}
        }
      ],
      "execution_count": 56,
      "metadata": {
        "trusted": true,
        "execution": {
          "shell.execute_reply": "2020-04-20T22:59:01.532Z",
          "iopub.status.busy": "2020-04-20T22:59:05.793Z",
          "iopub.execute_input": "2020-04-20T22:59:05.812Z",
          "iopub.status.idle": "2020-04-20T22:59:05.838Z"
        }
      }
    },
    {
      "cell_type": "code",
      "source": [
        "word[42:]"
      ],
      "outputs": [
        {
          "output_type": "execute_result",
          "execution_count": 57,
          "data": {
            "text/plain": [
              "''"
            ]
          },
          "metadata": {}
        }
      ],
      "execution_count": 57,
      "metadata": {
        "trusted": true,
        "execution": {
          "shell.execute_reply": "2020-04-20T22:59:01.549Z",
          "iopub.status.busy": "2020-04-20T22:59:05.864Z",
          "iopub.execute_input": "2020-04-20T22:59:05.883Z",
          "iopub.status.idle": "2020-04-20T22:59:05.910Z"
        }
      }
    },
    {
      "cell_type": "markdown",
      "source": [
        "Python strings are [immutable](https://docs.python.org/3.5/glossary.html#term-immutable), which means they cannot be changed. Therefore, assigning a value to an indexed position in a string results in an error:"
      ],
      "metadata": {}
    },
    {
      "cell_type": "code",
      "source": [
        "word[0] = 'J'"
      ],
      "outputs": [
        {
          "output_type": "error",
          "ename": "TypeError",
          "evalue": "'str' object does not support item assignment",
          "traceback": [
            "\u001b[1;31m---------------------------------------------------------------------------\u001b[0m",
            "\u001b[1;31mTypeError\u001b[0m                                 Traceback (most recent call last)",
            "\u001b[1;32m<ipython-input-58-91a956888ca7>\u001b[0m in \u001b[0;36m<module>\u001b[1;34m\u001b[0m\n\u001b[1;32m----> 1\u001b[1;33m \u001b[0mword\u001b[0m\u001b[1;33m[\u001b[0m\u001b[1;36m0\u001b[0m\u001b[1;33m]\u001b[0m \u001b[1;33m=\u001b[0m \u001b[1;34m'J'\u001b[0m\u001b[1;33m\u001b[0m\u001b[1;33m\u001b[0m\u001b[0m\n\u001b[0m",
            "\u001b[1;31mTypeError\u001b[0m: 'str' object does not support item assignment"
          ]
        }
      ],
      "execution_count": 58,
      "metadata": {
        "trusted": true,
        "execution": {
          "shell.execute_reply": "2020-04-20T22:59:01.565Z",
          "iopub.status.busy": "2020-04-20T22:59:05.935Z",
          "iopub.execute_input": "2020-04-20T22:59:05.953Z",
          "iopub.status.idle": "2020-04-20T22:59:05.981Z"
        }
      }
    },
    {
      "cell_type": "markdown",
      "source": [
        "The following cell also produces an error:"
      ],
      "metadata": {}
    },
    {
      "cell_type": "code",
      "source": [
        "word[2:] = 'py'"
      ],
      "outputs": [
        {
          "output_type": "error",
          "ename": "TypeError",
          "evalue": "'str' object does not support item assignment",
          "traceback": [
            "\u001b[1;31m---------------------------------------------------------------------------\u001b[0m",
            "\u001b[1;31mTypeError\u001b[0m                                 Traceback (most recent call last)",
            "\u001b[1;32m<ipython-input-59-6488bbf78f5a>\u001b[0m in \u001b[0;36m<module>\u001b[1;34m\u001b[0m\n\u001b[1;32m----> 1\u001b[1;33m \u001b[0mword\u001b[0m\u001b[1;33m[\u001b[0m\u001b[1;36m2\u001b[0m\u001b[1;33m:\u001b[0m\u001b[1;33m]\u001b[0m \u001b[1;33m=\u001b[0m \u001b[1;34m'py'\u001b[0m\u001b[1;33m\u001b[0m\u001b[1;33m\u001b[0m\u001b[0m\n\u001b[0m",
            "\u001b[1;31mTypeError\u001b[0m: 'str' object does not support item assignment"
          ]
        }
      ],
      "execution_count": 59,
      "metadata": {
        "trusted": true,
        "execution": {
          "shell.execute_reply": "2020-04-20T22:59:01.581Z",
          "iopub.status.busy": "2020-04-20T22:59:06.008Z",
          "iopub.execute_input": "2020-04-20T22:59:06.024Z",
          "iopub.status.idle": "2020-04-20T22:59:06.051Z"
        }
      }
    },
    {
      "cell_type": "markdown",
      "source": [
        "A slice it itself a value that you can concatenate with other values using `+`:"
      ],
      "metadata": {}
    },
    {
      "cell_type": "code",
      "source": [
        "'J' + word[1:]"
      ],
      "outputs": [
        {
          "output_type": "execute_result",
          "execution_count": 60,
          "data": {
            "text/plain": [
              "'Jython'"
            ]
          },
          "metadata": {}
        }
      ],
      "execution_count": 60,
      "metadata": {
        "trusted": true,
        "execution": {
          "shell.execute_reply": "2020-04-20T22:59:01.597Z",
          "iopub.status.busy": "2020-04-20T22:59:06.077Z",
          "iopub.execute_input": "2020-04-20T22:59:06.094Z",
          "iopub.status.idle": "2020-04-20T22:59:06.121Z"
        }
      }
    },
    {
      "cell_type": "code",
      "source": [
        "word[:2] + 'Py'"
      ],
      "outputs": [
        {
          "output_type": "execute_result",
          "execution_count": 61,
          "data": {
            "text/plain": [
              "'PyPy'"
            ]
          },
          "metadata": {}
        }
      ],
      "execution_count": 61,
      "metadata": {
        "trusted": true,
        "execution": {
          "shell.execute_reply": "2020-04-20T22:59:01.612Z",
          "iopub.status.busy": "2020-04-20T22:59:06.147Z",
          "iopub.execute_input": "2020-04-20T22:59:06.164Z",
          "iopub.status.idle": "2020-04-20T22:59:06.191Z"
        }
      }
    },
    {
      "cell_type": "markdown",
      "source": [
        "A slice, however, is not a string literal and cannot be used with automatic concatenation. The following code produces an error:"
      ],
      "metadata": {}
    },
    {
      "cell_type": "code",
      "source": [
        "word[:2] 'Py'    # Slice is not a literal; produces an error"
      ],
      "outputs": [
        {
          "output_type": "error",
          "ename": "SyntaxError",
          "evalue": "invalid syntax (<ipython-input-62-60be1c701626>, line 1)",
          "traceback": [
            "\u001b[1;36m  File \u001b[1;32m\"<ipython-input-62-60be1c701626>\"\u001b[1;36m, line \u001b[1;32m1\u001b[0m\n\u001b[1;33m    word[:2] 'Py'    # Slice is not a literal; produces an error\u001b[0m\n\u001b[1;37m                ^\u001b[0m\n\u001b[1;31mSyntaxError\u001b[0m\u001b[1;31m:\u001b[0m invalid syntax\n"
          ]
        }
      ],
      "execution_count": 62,
      "metadata": {
        "trusted": true,
        "execution": {
          "shell.execute_reply": "2020-04-20T22:59:01.627Z",
          "iopub.status.busy": "2020-04-20T22:59:06.217Z",
          "iopub.execute_input": "2020-04-20T22:59:06.233Z",
          "iopub.status.idle": "2020-04-20T22:59:06.258Z"
        }
      }
    },
    {
      "cell_type": "markdown",
      "source": [
        "The built-in function [`len()`](https://docs.python.org/3.5/library/functions.html#len) returns the length of a string:"
      ],
      "metadata": {}
    },
    {
      "cell_type": "code",
      "source": [
        "s = 'supercalifragilisticexpialidocious'\n",
        "len(s)"
      ],
      "outputs": [
        {
          "output_type": "execute_result",
          "execution_count": 63,
          "data": {
            "text/plain": [
              "34"
            ]
          },
          "metadata": {}
        }
      ],
      "execution_count": 63,
      "metadata": {
        "trusted": true,
        "execution": {
          "shell.execute_reply": "2020-04-20T22:59:01.644Z",
          "iopub.status.busy": "2020-04-20T22:59:06.284Z",
          "iopub.execute_input": "2020-04-20T22:59:06.302Z",
          "iopub.status.idle": "2020-04-20T22:59:06.332Z"
        }
      }
    },
    {
      "cell_type": "markdown",
      "source": [
        "### Lists"
      ],
      "metadata": {}
    },
    {
      "cell_type": "markdown",
      "source": [
        "Python knows a number of _compound_ data types, which are used to group together other values. The most versatile is the [*list*](https://docs.python.org/3.5/library/stdtypes.html#typesseq-list), which can be written as a sequence of comma-separated values (items) between square brackets. Lists might contain items of different types, but usually the items all have the same type."
      ],
      "metadata": {}
    },
    {
      "cell_type": "code",
      "source": [
        "squares = [1, 4, 9, 16, 25]\n",
        "squares"
      ],
      "outputs": [
        {
          "output_type": "execute_result",
          "execution_count": 64,
          "data": {
            "text/plain": [
              "[1, 4, 9, 16, 25]"
            ]
          },
          "metadata": {}
        }
      ],
      "execution_count": 64,
      "metadata": {
        "trusted": true,
        "execution": {
          "shell.execute_reply": "2020-04-20T22:59:01.659Z",
          "iopub.status.busy": "2020-04-20T22:59:06.358Z",
          "iopub.execute_input": "2020-04-20T22:59:06.376Z",
          "iopub.status.idle": "2020-04-20T22:59:06.402Z"
        }
      }
    },
    {
      "cell_type": "markdown",
      "source": [
        "Like strings (and all other built-in [sequence](https://docs.python.org/3.5/glossary.html#term-sequence) types), lists can be indexed and sliced:"
      ],
      "metadata": {}
    },
    {
      "cell_type": "code",
      "source": [
        "squares[0]  # Indexing returns the item."
      ],
      "outputs": [
        {
          "output_type": "execute_result",
          "execution_count": 65,
          "data": {
            "text/plain": [
              "1"
            ]
          },
          "metadata": {}
        }
      ],
      "execution_count": 65,
      "metadata": {
        "trusted": true,
        "execution": {
          "shell.execute_reply": "2020-04-20T22:59:01.674Z",
          "iopub.status.busy": "2020-04-20T22:59:06.430Z",
          "iopub.execute_input": "2020-04-20T22:59:06.446Z",
          "iopub.status.idle": "2020-04-20T22:59:06.475Z"
        }
      }
    },
    {
      "cell_type": "code",
      "source": [
        "squares[-1]"
      ],
      "outputs": [
        {
          "output_type": "execute_result",
          "execution_count": 66,
          "data": {
            "text/plain": [
              "25"
            ]
          },
          "metadata": {}
        }
      ],
      "execution_count": 66,
      "metadata": {
        "trusted": true,
        "execution": {
          "shell.execute_reply": "2020-04-20T22:59:01.689Z",
          "iopub.status.busy": "2020-04-20T22:59:06.505Z",
          "iopub.execute_input": "2020-04-20T22:59:06.523Z",
          "iopub.status.idle": "2020-04-20T22:59:06.550Z"
        }
      }
    },
    {
      "cell_type": "code",
      "source": [
        "squares[-3:]  # Slicing returns a new list."
      ],
      "outputs": [
        {
          "output_type": "execute_result",
          "execution_count": 67,
          "data": {
            "text/plain": [
              "[9, 16, 25]"
            ]
          },
          "metadata": {}
        }
      ],
      "execution_count": 67,
      "metadata": {
        "trusted": true,
        "execution": {
          "shell.execute_reply": "2020-04-20T22:59:01.704Z",
          "iopub.status.busy": "2020-04-20T22:59:06.575Z",
          "iopub.execute_input": "2020-04-20T22:59:06.592Z",
          "iopub.status.idle": "2020-04-20T22:59:06.620Z"
        }
      }
    },
    {
      "cell_type": "markdown",
      "source": [
        "All slice operations return a new list containing the requested elements. This means that the following slice returns a new (shallow) copy of the list:"
      ],
      "metadata": {}
    },
    {
      "cell_type": "code",
      "source": [
        "squares[:]"
      ],
      "outputs": [
        {
          "output_type": "execute_result",
          "execution_count": 68,
          "data": {
            "text/plain": [
              "[1, 4, 9, 16, 25]"
            ]
          },
          "metadata": {}
        }
      ],
      "execution_count": 68,
      "metadata": {
        "trusted": true,
        "execution": {
          "shell.execute_reply": "2020-04-20T22:59:01.719Z",
          "iopub.status.busy": "2020-04-20T22:59:06.645Z",
          "iopub.execute_input": "2020-04-20T22:59:06.663Z",
          "iopub.status.idle": "2020-04-20T22:59:06.691Z"
        }
      }
    },
    {
      "cell_type": "markdown",
      "source": [
        "Lists also support concatenation with the `+` operator:"
      ],
      "metadata": {}
    },
    {
      "cell_type": "code",
      "source": [
        "squares + [36, 49, 64, 81, 100]"
      ],
      "outputs": [
        {
          "output_type": "execute_result",
          "execution_count": 69,
          "data": {
            "text/plain": [
              "[1, 4, 9, 16, 25, 36, 49, 64, 81, 100]"
            ]
          },
          "metadata": {}
        }
      ],
      "execution_count": 69,
      "metadata": {
        "trusted": true,
        "execution": {
          "shell.execute_reply": "2020-04-20T22:59:01.733Z",
          "iopub.status.busy": "2020-04-20T22:59:06.716Z",
          "iopub.execute_input": "2020-04-20T22:59:06.733Z",
          "iopub.status.idle": "2020-04-20T22:59:06.760Z"
        }
      }
    },
    {
      "cell_type": "markdown",
      "source": [
        "Unlike strings, which are [immutable](https://docs.python.org/3.5/glossary.html#term-immutable), lists are a [mutable](https://docs.python.org/3.5/glossary.html#term-mutable) type, which means you can change any value in the list:"
      ],
      "metadata": {}
    },
    {
      "cell_type": "code",
      "source": [
        "cubes = [1, 8, 27, 65, 125]  # Something's wrong here ...\n",
        "4 ** 3  # the cube of 4 is 64, not 65!"
      ],
      "outputs": [
        {
          "output_type": "execute_result",
          "execution_count": 70,
          "data": {
            "text/plain": [
              "64"
            ]
          },
          "metadata": {}
        }
      ],
      "execution_count": 70,
      "metadata": {
        "trusted": true,
        "execution": {
          "shell.execute_reply": "2020-04-20T22:59:01.748Z",
          "iopub.status.busy": "2020-04-20T22:59:06.786Z",
          "iopub.execute_input": "2020-04-20T22:59:06.803Z",
          "iopub.status.idle": "2020-04-20T22:59:06.830Z"
        }
      }
    },
    {
      "cell_type": "code",
      "source": [
        "cubes[3] = 64  # Replace the wrong value.\n",
        "cubes"
      ],
      "outputs": [
        {
          "output_type": "execute_result",
          "execution_count": 71,
          "data": {
            "text/plain": [
              "[1, 8, 27, 64, 125]"
            ]
          },
          "metadata": {}
        }
      ],
      "execution_count": 71,
      "metadata": {
        "trusted": true,
        "execution": {
          "shell.execute_reply": "2020-04-20T22:59:01.764Z",
          "iopub.status.busy": "2020-04-20T22:59:06.860Z",
          "iopub.execute_input": "2020-04-20T22:59:06.877Z",
          "iopub.status.idle": "2020-04-20T22:59:06.903Z"
        }
      }
    },
    {
      "cell_type": "markdown",
      "source": [
        "Use the list's `append()` method to add new items to the end of the list:"
      ],
      "metadata": {}
    },
    {
      "cell_type": "code",
      "source": [
        "cubes.append(216)  # Add the cube of 6 ...\n",
        "cubes.append(7 ** 3)  # and the cube of 7.\n",
        "cubes"
      ],
      "outputs": [
        {
          "output_type": "execute_result",
          "execution_count": 72,
          "data": {
            "text/plain": [
              "[1, 8, 27, 64, 125, 216, 343]"
            ]
          },
          "metadata": {}
        }
      ],
      "execution_count": 72,
      "metadata": {
        "trusted": true,
        "execution": {
          "shell.execute_reply": "2020-04-20T22:59:01.779Z",
          "iopub.status.busy": "2020-04-20T22:59:06.929Z",
          "iopub.execute_input": "2020-04-20T22:59:06.946Z",
          "iopub.status.idle": "2020-04-20T22:59:06.974Z"
        }
      }
    },
    {
      "cell_type": "markdown",
      "source": [
        "You can even assign to slices, which can change the size of the list or clear it entirely:"
      ],
      "metadata": {}
    },
    {
      "cell_type": "code",
      "source": [
        "letters = ['a', 'b', 'c', 'd', 'e', 'f', 'g']\n",
        "letters"
      ],
      "outputs": [
        {
          "output_type": "execute_result",
          "execution_count": 73,
          "data": {
            "text/plain": [
              "['a', 'b', 'c', 'd', 'e', 'f', 'g']"
            ]
          },
          "metadata": {}
        }
      ],
      "execution_count": 73,
      "metadata": {
        "trusted": true,
        "execution": {
          "shell.execute_reply": "2020-04-20T22:59:01.795Z",
          "iopub.status.busy": "2020-04-20T22:59:07.003Z",
          "iopub.execute_input": "2020-04-20T22:59:07.019Z",
          "iopub.status.idle": "2020-04-20T22:59:07.049Z"
        }
      }
    },
    {
      "cell_type": "code",
      "source": [
        "# Replace some values.\n",
        "letters[2:5] = ['C', 'D', 'E']\n",
        "letters"
      ],
      "outputs": [
        {
          "output_type": "execute_result",
          "execution_count": 74,
          "data": {
            "text/plain": [
              "['a', 'b', 'C', 'D', 'E', 'f', 'g']"
            ]
          },
          "metadata": {}
        }
      ],
      "execution_count": 74,
      "metadata": {
        "trusted": true,
        "execution": {
          "shell.execute_reply": "2020-04-20T22:59:01.811Z",
          "iopub.status.busy": "2020-04-20T22:59:07.074Z",
          "iopub.execute_input": "2020-04-20T22:59:07.092Z",
          "iopub.status.idle": "2020-04-20T22:59:07.118Z"
        }
      }
    },
    {
      "cell_type": "code",
      "source": [
        "# Now remove them.\n",
        "letters[2:5] = []\n",
        "letters"
      ],
      "outputs": [
        {
          "output_type": "execute_result",
          "execution_count": 75,
          "data": {
            "text/plain": [
              "['a', 'b', 'f', 'g']"
            ]
          },
          "metadata": {}
        }
      ],
      "execution_count": 75,
      "metadata": {
        "trusted": true,
        "execution": {
          "shell.execute_reply": "2020-04-20T22:59:01.829Z",
          "iopub.status.busy": "2020-04-20T22:59:07.142Z",
          "iopub.execute_input": "2020-04-20T22:59:07.160Z",
          "iopub.status.idle": "2020-04-20T22:59:07.187Z"
        }
      }
    },
    {
      "cell_type": "code",
      "source": [
        "# Clear the list by replacing all the elements with an empty list.\n",
        "letters[:] = []\n",
        "letters"
      ],
      "outputs": [
        {
          "output_type": "execute_result",
          "execution_count": 76,
          "data": {
            "text/plain": [
              "[]"
            ]
          },
          "metadata": {}
        }
      ],
      "execution_count": 76,
      "metadata": {
        "trusted": true,
        "execution": {
          "shell.execute_reply": "2020-04-20T22:59:01.847Z",
          "iopub.status.busy": "2020-04-20T22:59:07.214Z",
          "iopub.execute_input": "2020-04-20T22:59:07.230Z",
          "iopub.status.idle": "2020-04-20T22:59:07.257Z"
        }
      }
    },
    {
      "cell_type": "markdown",
      "source": [
        "The built-in [`len()`](https://docs.python.org/3.5/library/functions.html#len) function also applies to lists:"
      ],
      "metadata": {}
    },
    {
      "cell_type": "code",
      "source": [
        "letters = ['a', 'b', 'c', 'd']\n",
        "len(letters)"
      ],
      "outputs": [
        {
          "output_type": "execute_result",
          "execution_count": 77,
          "data": {
            "text/plain": [
              "4"
            ]
          },
          "metadata": {}
        }
      ],
      "execution_count": 77,
      "metadata": {
        "trusted": true,
        "execution": {
          "shell.execute_reply": "2020-04-20T22:59:01.869Z",
          "iopub.status.busy": "2020-04-20T22:59:07.283Z",
          "iopub.execute_input": "2020-04-20T22:59:07.300Z",
          "iopub.status.idle": "2020-04-20T22:59:07.327Z"
        }
      }
    },
    {
      "cell_type": "markdown",
      "source": [
        "You can nest lists, which means to create lists that contain other lists. For example:"
      ],
      "metadata": {}
    },
    {
      "cell_type": "code",
      "source": [
        "a = ['a', 'b', 'c']\n",
        "n = [1, 2, 3]\n",
        "x = [a, n]\n",
        "x"
      ],
      "outputs": [
        {
          "output_type": "execute_result",
          "execution_count": 78,
          "data": {
            "text/plain": [
              "[['a', 'b', 'c'], [1, 2, 3]]"
            ]
          },
          "metadata": {}
        }
      ],
      "execution_count": 78,
      "metadata": {
        "trusted": true,
        "execution": {
          "shell.execute_reply": "2020-04-20T22:59:01.886Z",
          "iopub.status.busy": "2020-04-20T22:59:07.354Z",
          "iopub.execute_input": "2020-04-20T22:59:07.373Z",
          "iopub.status.idle": "2020-04-20T22:59:07.402Z"
        }
      }
    },
    {
      "cell_type": "code",
      "source": [
        "x[0]"
      ],
      "outputs": [
        {
          "output_type": "execute_result",
          "execution_count": 79,
          "data": {
            "text/plain": [
              "['a', 'b', 'c']"
            ]
          },
          "metadata": {}
        }
      ],
      "execution_count": 79,
      "metadata": {
        "trusted": true,
        "execution": {
          "shell.execute_reply": "2020-04-20T22:59:01.901Z",
          "iopub.status.busy": "2020-04-20T22:59:07.428Z",
          "iopub.execute_input": "2020-04-20T22:59:07.444Z",
          "iopub.status.idle": "2020-04-20T22:59:07.471Z"
        }
      }
    },
    {
      "cell_type": "code",
      "source": [
        "x[0][1]"
      ],
      "outputs": [
        {
          "output_type": "execute_result",
          "execution_count": 80,
          "data": {
            "text/plain": [
              "'b'"
            ]
          },
          "metadata": {}
        }
      ],
      "execution_count": 80,
      "metadata": {
        "trusted": true,
        "execution": {
          "shell.execute_reply": "2020-04-20T22:59:01.917Z",
          "iopub.status.busy": "2020-04-20T22:59:07.499Z",
          "iopub.execute_input": "2020-04-20T22:59:07.516Z",
          "iopub.status.idle": "2020-04-20T22:59:07.550Z"
        }
      }
    },
    {
      "cell_type": "markdown",
      "source": [
        "## First Steps Towards Programming"
      ],
      "metadata": {}
    },
    {
      "cell_type": "markdown",
      "source": [
        "Python, being used by professional programmers and scientists, among others, is capable of far more complicated tasks than adding numbers, playing with strings, and manipulating lists. For instance, we can write an initial sub-sequence of the Fibonacci series as follows:"
      ],
      "metadata": {}
    },
    {
      "cell_type": "code",
      "source": [
        "# Fibonacci series:\n",
        "# the sum of two elements defines the next.\n",
        "a, b = 0, 1\n",
        "\n",
        "while b < 10:    \n",
        "    print(b)\n",
        "    a, b = b, a+b"
      ],
      "outputs": [
        {
          "output_type": "stream",
          "name": "stdout",
          "text": [
            "1\n",
            "1\n",
            "2\n",
            "3\n",
            "5\n",
            "8\n"
          ]
        }
      ],
      "execution_count": 81,
      "metadata": {
        "trusted": true,
        "execution": {
          "shell.execute_reply": "2020-04-20T22:59:01.931Z",
          "iopub.status.busy": "2020-04-20T22:59:07.575Z",
          "iopub.execute_input": "2020-04-20T22:59:07.593Z",
          "iopub.status.idle": "2020-04-20T22:59:07.621Z"
        }
      }
    },
    {
      "cell_type": "markdown",
      "source": [
        "This example introduces several new features of the Python language:\n",
        "\n",
        "- The first line contains a *multiple assignment*: the variables `a` and `b` simultaneously get the new values 0 and 1. On the last line this assignment is used again, demonstrating that the expressions on the right-hand side are all evaluated first before any of the assignments take place. The right-hand side expressions are evaluated from the left to the right.\n",
        "\n",
        "- The [`while`](https://docs.python.org/3.5/reference/compound_stmts.html#while) loop executes as long as the condition (here: `b < 10`) remains true. In Python, as in C, any non-zero integer value is true; zero is false. The condition may also be a string or list value, in fact any sequence; anything with a non-zero length is true, empty sequences are false. The test used in the example is a simple comparison. The standard comparison operators are written the same as in C: `<` (less than), `>` (greater than), `==` (equal to), `<=` (less than or equal to), `>=` (greater than or equal to) and `!=` (not equal to).\n",
        "\n",
        "- Every line in the *body* of the loop is indented: indentation is Python's way of grouping statements. At the interactive prompt, you have to type a tab or space(s) for each indented line. In practice, you typically write Python code in an editor, including a Jupyter notebook, that provides automatic indentation.\n",
        "\n",
        "- The [`print()`](https://docs.python.org/3.5/library/functions.html#print) function writes the value of the argument(s) its given. `print` differs from just writing the expression you want to write (as we did earlier in the calculator examples) in the way it handles multiple arguments, floating point quantities, and strings. Strings are printed without quotes, and a space is inserted between items, so you can easily format your output nicely. For example:"
      ],
      "metadata": {}
    },
    {
      "cell_type": "code",
      "source": [
        "i = 256*256\n",
        "print('The value of i is', i)"
      ],
      "outputs": [
        {
          "output_type": "stream",
          "name": "stdout",
          "text": [
            "The value of i is 65536\n"
          ]
        }
      ],
      "execution_count": 82,
      "metadata": {
        "trusted": true,
        "execution": {
          "shell.execute_reply": "2020-04-20T22:59:01.946Z",
          "iopub.status.busy": "2020-04-20T22:59:07.646Z",
          "iopub.execute_input": "2020-04-20T22:59:07.663Z",
          "iopub.status.idle": "2020-04-20T22:59:07.695Z"
        }
      }
    },
    {
      "cell_type": "markdown",
      "source": [
        "The keyword argument `end` can be used to avoid the newline after the output, or end the output with a different string:"
      ],
      "metadata": {}
    },
    {
      "cell_type": "code",
      "source": [
        "a, b = 0, 1\n",
        "while b < 1000:\n",
        "    print(b, end=',')\n",
        "    a, b = b, a+b"
      ],
      "outputs": [
        {
          "output_type": "stream",
          "name": "stdout",
          "text": [
            "1,1,2,3,5,8,13,21,34,55,89,144,233,377,610,987,"
          ]
        }
      ],
      "execution_count": 83,
      "metadata": {
        "trusted": true,
        "execution": {
          "shell.execute_reply": "2020-04-20T22:59:01.962Z",
          "iopub.status.busy": "2020-04-20T22:59:07.722Z",
          "iopub.execute_input": "2020-04-20T22:59:07.741Z",
          "iopub.status.idle": "2020-04-20T22:59:07.768Z"
        }
      }
    },
    {
      "cell_type": "markdown",
      "source": [
        "## Learn more\n",
        "\n",
        "Strings:\n",
        "\n",
        "- [Text Sequence Type - str](https://docs.python.org/3.5/library/stdtypes.html#textseq): Strings are examples of *sequence types*, and support the common operations supported by such types.\n",
        "- [String Methods](https://docs.python.org/3.5/library/stdtypes.html#string-methods): Strings support a large number of methods for basic transformations and searching.\n",
        "- [Format String Syntax](https://docs.python.org/3.5/library/string.html#formatstrings): Information about string formatting with [`str.format()`](https://docs.python.org/3.5/library/string.html#formatstrings).\n",
        "- [`printf`-style String Formatting](https://docs.python.org/3.5/library/stdtypes.html#old-string-formatting): The old formatting operations invoked when strings and Unicode strings are the left operand of the `%` operator.\n",
        "\n",
        "Continue the tutorial on python.org (try pasting the code into a notebook!):\n",
        "\n",
        "- [More Control Flow Tools](https://docs.python.org/3.6/tutorial/controlflow.html)\n",
        "- [Data Structures](Data Structures)\n",
        "- [Modules](https://docs.python.org/3.6/tutorial/modules.html)\n",
        "- [Input and Output](https://docs.python.org/3.6/tutorial/inputoutput.html)"
      ],
      "metadata": {}
    }
  ],
  "metadata": {
    "kernelspec": {
      "name": "python36",
      "display_name": "Python 3.6",
      "language": "python"
    },
    "language_info": {
      "name": "python",
      "version": "3.6.8",
      "mimetype": "text/x-python",
      "codemirror_mode": {
        "name": "ipython",
        "version": 3
      },
      "pygments_lexer": "ipython3",
      "nbconvert_exporter": "python",
      "file_extension": ".py"
    },
    "nteract": {
      "version": "0.22.0"
    }
  },
  "nbformat": 4,
  "nbformat_minor": 1
}