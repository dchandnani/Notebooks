{
  "cells": [
    {
      "cell_type": "markdown",
      "metadata": {},
      "source": ["# Mime types\n"]
    },
    {
      "cell_type": "code",
      "execution_count": 2,
      "metadata": {
        "collapsed": false,
        "inputHidden": false,
        "outputHidden": false
      },
      "outputs": [
        {
          "data": {
            "text/plain": ["Sample text for mimetype text/plain"],
            "text/html": [
              "<h3>",
              "Sample text for mimetype text/html",
              "</h3>"
            ],
            "text/latex": ["??", "Sample text for mimetype text/latex", "??"],
            "application/json": [
              "{foo:'bar',",
              "value:'Sample text for mimetype application/json',",
              "nested:{bar:true}}"
            ],
            "application/javascript": [
              "var message = 'Sample text for mimetype application/javascript';",
              "console.warn(message);",
              "alert(message);"
            ],
            "application/vnd.jupyter.widget-view+json": [
              "Sample text for mimetype application/vnd.jupyter.widget-view+json"
            ],
            "application/geo+json": [
              "Sample text for mimetype application/geo+json"
            ],
            "application/vnd.plotly.v1+json": {
              "data": [
                {
                  "x": [1999, 2000, 2001, 2002],
                  "y": [10, 15, 13, 17],
                  "type": "scatter"
                },
                {
                  "x": [1999, 2000, 2001, 2002],
                  "y": [16, 5, 11, 9],
                  "type": "scatter"
                }
              ],
              "layout": {
                "title": "Sales Growth",
                "xaxis": {
                  "title": "Year",
                  "showgrid": false,
                  "zeroline": false
                },
                "yaxis": { "title": "Percent", "showline": false }
              }
            },
            "text/vnd.plotly.v1+html": [
              "Sample text for mimetype text/vnd.plotly.v1+html"
            ],
            "application/vdom.v1+json": {
              "attributes": {
                "style": {
                  "textAlign": "center"
                }
              },
              "children": "Sample text for mimetype application/vdom.v1+json",
              "tagName": "h5"
            },
            "image/svg+xml": ["Sample text for mimetype image/svg+xml"],
            "image/gif": ["Sample text for mimetype image/gif"],
            "image/png": ["Sample text for mimetype image/png"],
            "image/jpeg": ["Sample text for mimetype image/jpeg"]
          },
          "execution_count": 2,
          "metadata": {},
          "output_type": "display_data"
        }
      ],
      "source": ["# Example mimetypes"]
    },
    {
      "cell_type": "code",
      "execution_count": 2,
      "metadata": {},
      "outputs": [
        {
          "data": {
            "text/plain": ["Sample text for mimetype text/plain"]
          },
          "execution_count": 2,
          "metadata": {},
          "output_type": "execute_result"
        }
      ],
      "source": ["# Sample text for mimetype text/plain"]
    },
    {
      "cell_type": "code",
      "execution_count": 2,
      "metadata": {},
      "outputs": [
        {
          "data": {
            "text/html": ["<h3>", "Sample text for mimetype text/html", "</h3>"]
          },
          "execution_count": 2,
          "metadata": {},
          "output_type": "execute_result"
        }
      ],
      "source": ["# Sample text for mimetype text/html"]
    },
    {
      "cell_type": "code",
      "execution_count": 2,
      "metadata": {},
      "outputs": [
        {
          "data": {
            "text/markdown": [
              "# Sample text for mimetype text/markdown\n",
              "| Header 1| Header 2|\n|----|----|\n|Item 1|Item 2|\n",
              "- bullet 1\n",
              "- bullet 2\n",
              "*italic* `quoted` \n",
              "> Code Block: \n",
              "```python\n# testing comments\n```\n"
            ]
          },
          "execution_count": 2,
          "metadata": {},
          "output_type": "execute_result"
        }
      ],
      "source": ["# Sample text for mimetype text/markdown"]
    },
    {
      "cell_type": "code",
      "execution_count": 2,
      "metadata": {},
      "outputs": [
        {
          "data": {
            "text/latex": [
              "# Sample text for mimetype text/latex\n",
              "Euler's identity: $ e^{i \\pi} + 1 = 0 $"
            ]
          },
          "execution_count": 2,
          "metadata": {},
          "output_type": "execute_result"
        }
      ],
      "source": ["# Sample text for mimetype text/latex"]
    },
    {
      "cell_type": "code",
      "execution_count": 2,
      "metadata": {},
      "outputs": [
        {
          "data": {
            "application/javascript": [
              "var message = 'Sample text for mimetype application/javascript';",
              "console.warn(message);",
              "alert(message);"
            ]
          },
          "execution_count": 2,
          "metadata": {},
          "output_type": "execute_result"
        }
      ],
      "source": [
        "# Sample text for mimetype application/javascript\n",
        "var message = 'Sample text for mimetype application/javascript';\n",
        "console.warn(message);\n",
        "alert(message);\n"
      ]
    },
    {
      "cell_type": "code",
      "execution_count": 2,
      "metadata": {},
      "outputs": [
        {
          "data": {
            "application/json": {
              "json": {
                "foo": "bar",
                "value": "Sample text for mimetype application/json",
                "nested": { "bar": true }
              }
            }
          },
          "execution_count": 2,
          "metadata": {},
          "output_type": "execute_result"
        }
      ],
      "source": ["# Sample text for mimetype application/json"]
    },
    {
      "cell_type": "code",
      "execution_count": 2,
      "metadata": {},
      "outputs": [
        {
          "data": {
            "application/vnd.jupyter.widget-view+json": [
              "Sample text for mimetype application/vnd.jupyter.widget-view+json"
            ]
          },
          "execution_count": 2,
          "metadata": {},
          "output_type": "execute_result"
        }
      ],
      "source": [
        "# Sample text for mimetype application/vnd.jupyter.widget-view+json"
      ]
    },
    {
      "cell_type": "code",
      "execution_count": 2,
      "metadata": {},
      "outputs": [
        {
          "data": {
            "application/geo+json": [
              "Sample text for mimetype application/geo+json"
            ]
          },
          "execution_count": 2,
          "metadata": {},
          "output_type": "execute_result"
        }
      ],
      "source": ["# Sample text for mimetype application/geo+json"]
    },
    {
      "cell_type": "code",
      "execution_count": 2,
      "metadata": {},
      "outputs": [
        {
          "data": {
            "application/vnd.plotly.v1+json": {
              "data": [
                {
                  "x": [1999, 2000, 2001, 2002],
                  "y": [10, 15, 13, 17],
                  "type": "scatter"
                },
                {
                  "x": [1999, 2000, 2001, 2002],
                  "y": [16, 5, 11, 9],
                  "type": "scatter"
                }
              ],
              "layout": {
                "title": "Sales Growth",
                "xaxis": {
                  "title": "Year",
                  "showgrid": false,
                  "zeroline": false
                },
                "yaxis": { "title": "Percent", "showline": false }
              }
            }
          },
          "execution_count": 2,
          "metadata": {},
          "output_type": "execute_result"
        }
      ],
      "source": ["# Sample text for mimetype application/vnd.plotly.v1+json"]
    },
    {
      "cell_type": "code",
      "execution_count": 2,
      "metadata": {},
      "outputs": [
        {
          "data": {
            "application/vnd.dataresource+json": {
              "data": [
                {
                  "Country": "Switzerland",
                  "Dystopia Residual": 2.51738,
                  "Economy (GDP per Capita)": 1.39651,
                  "Family": 1.34951,
                  "Freedom": 0.66557,
                  "Generosity": 0.29678,
                  "Happiness Rank": 1,
                  "Happiness Score": 7.587,
                  "Health (Life Expectancy)": 0.94143,
                  "Region": "Western Europe",
                  "Standard Error": 0.03411,
                  "Trust (Government Corruption)": 0.41978,
                  "index": 0
                },
                {
                  "Country": "Iceland",
                  "Dystopia Residual": 2.70201,
                  "Economy (GDP per Capita)": 1.30232,
                  "Family": 1.40223,
                  "Freedom": 0.62877,
                  "Generosity": 0.4363,
                  "Happiness Rank": 2,
                  "Happiness Score": 7.561,
                  "Health (Life Expectancy)": 0.94784,
                  "Region": "Western Europe",
                  "Standard Error": 0.04884,
                  "Trust (Government Corruption)": 0.14145,
                  "index": 1
                },
                {
                  "Country": "Denmark",
                  "Dystopia Residual": 2.49204,
                  "Economy (GDP per Capita)": 1.32548,
                  "Family": 1.36058,
                  "Freedom": 0.64938,
                  "Generosity": 0.34139,
                  "Happiness Rank": 3,
                  "Happiness Score": 7.527,
                  "Health (Life Expectancy)": 0.87464,
                  "Region": "Western Europe",
                  "Standard Error": 0.03328,
                  "Trust (Government Corruption)": 0.48357,
                  "index": 2
                },
                {
                  "Country": "Norway",
                  "Dystopia Residual": 2.46531,
                  "Economy (GDP per Capita)": 1.459,
                  "Family": 1.33095,
                  "Freedom": 0.66973,
                  "Generosity": 0.34699,
                  "Happiness Rank": 4,
                  "Happiness Score": 7.522,
                  "Health (Life Expectancy)": 0.88521,
                  "Region": "Western Europe",
                  "Standard Error": 0.0388,
                  "Trust (Government Corruption)": 0.36503,
                  "index": 3
                },
                {
                  "Country": "Canada",
                  "Dystopia Residual": 2.45176,
                  "Economy (GDP per Capita)": 1.32629,
                  "Family": 1.32261,
                  "Freedom": 0.63297,
                  "Generosity": 0.45811,
                  "Happiness Rank": 5,
                  "Happiness Score": 7.427,
                  "Health (Life Expectancy)": 0.90563,
                  "Region": "North America",
                  "Standard Error": 0.03553,
                  "Trust (Government Corruption)": 0.32957,
                  "index": 4
                },
                {
                  "Country": "Finland",
                  "Dystopia Residual": 2.61955,
                  "Economy (GDP per Capita)": 1.29025,
                  "Family": 1.31826,
                  "Freedom": 0.64169,
                  "Generosity": 0.23351,
                  "Happiness Rank": 6,
                  "Happiness Score": 7.406,
                  "Health (Life Expectancy)": 0.88911,
                  "Region": "Western Europe",
                  "Standard Error": 0.0314,
                  "Trust (Government Corruption)": 0.41372,
                  "index": 5
                },
                {
                  "Country": "Netherlands",
                  "Dystopia Residual": 2.4657,
                  "Economy (GDP per Capita)": 1.32944,
                  "Family": 1.28017,
                  "Freedom": 0.61576,
                  "Generosity": 0.4761,
                  "Happiness Rank": 7,
                  "Happiness Score": 7.378,
                  "Health (Life Expectancy)": 0.89284,
                  "Region": "Western Europe",
                  "Standard Error": 0.02799,
                  "Trust (Government Corruption)": 0.31814,
                  "index": 6
                },
                {
                  "Country": "Sweden",
                  "Dystopia Residual": 2.37119,
                  "Economy (GDP per Capita)": 1.33171,
                  "Family": 1.28907,
                  "Freedom": 0.6598,
                  "Generosity": 0.36262,
                  "Happiness Rank": 8,
                  "Happiness Score": 7.364,
                  "Health (Life Expectancy)": 0.91087,
                  "Region": "Western Europe",
                  "Standard Error": 0.03157,
                  "Trust (Government Corruption)": 0.43844,
                  "index": 7
                },
                {
                  "Country": "New Zealand",
                  "Dystopia Residual": 2.26425,
                  "Economy (GDP per Capita)": 1.25018,
                  "Family": 1.31967,
                  "Freedom": 0.63938,
                  "Generosity": 0.47501,
                  "Happiness Rank": 9,
                  "Happiness Score": 7.286,
                  "Health (Life Expectancy)": 0.90837,
                  "Region": "Australia and New Zealand",
                  "Standard Error": 0.03371,
                  "Trust (Government Corruption)": 0.42922,
                  "index": 8
                },
                {
                  "Country": "Australia",
                  "Dystopia Residual": 2.26646,
                  "Economy (GDP per Capita)": 1.33358,
                  "Family": 1.30923,
                  "Freedom": 0.65124,
                  "Generosity": 0.43562,
                  "Happiness Rank": 10,
                  "Happiness Score": 7.284,
                  "Health (Life Expectancy)": 0.93156,
                  "Region": "Australia and New Zealand",
                  "Standard Error": 0.04083,
                  "Trust (Government Corruption)": 0.35637,
                  "index": 9
                },
                {
                  "Country": "Israel",
                  "Dystopia Residual": 3.08854,
                  "Economy (GDP per Capita)": 1.22857,
                  "Family": 1.22393,
                  "Freedom": 0.41319,
                  "Generosity": 0.33172,
                  "Happiness Rank": 11,
                  "Happiness Score": 7.278,
                  "Health (Life Expectancy)": 0.91387,
                  "Region": "Middle East and Northern Africa",
                  "Standard Error": 0.0347,
                  "Trust (Government Corruption)": 0.07785,
                  "index": 10
                },
                {
                  "Country": "Costa Rica",
                  "Dystopia Residual": 3.17728,
                  "Economy (GDP per Capita)": 0.95578,
                  "Family": 1.23788,
                  "Freedom": 0.63376,
                  "Generosity": 0.25497,
                  "Happiness Rank": 12,
                  "Happiness Score": 7.226,
                  "Health (Life Expectancy)": 0.86027,
                  "Region": "Latin America and Caribbean",
                  "Standard Error": 0.04454,
                  "Trust (Government Corruption)": 0.10583,
                  "index": 11
                },
                {
                  "Country": "Austria",
                  "Dystopia Residual": 2.5332,
                  "Economy (GDP per Capita)": 1.33723,
                  "Family": 1.29704,
                  "Freedom": 0.62433,
                  "Generosity": 0.33088,
                  "Happiness Rank": 13,
                  "Happiness Score": 7.2,
                  "Health (Life Expectancy)": 0.89042,
                  "Region": "Western Europe",
                  "Standard Error": 0.03751,
                  "Trust (Government Corruption)": 0.18676,
                  "index": 12
                },
                {
                  "Country": "Mexico",
                  "Dystopia Residual": 3.60214,
                  "Economy (GDP per Capita)": 1.02054,
                  "Family": 0.91451,
                  "Freedom": 0.48181,
                  "Generosity": 0.14074,
                  "Happiness Rank": 14,
                  "Happiness Score": 7.187,
                  "Health (Life Expectancy)": 0.81444,
                  "Region": "Latin America and Caribbean",
                  "Standard Error": 0.04176,
                  "Trust (Government Corruption)": 0.21312,
                  "index": 13
                },
                {
                  "Country": "United States",
                  "Dystopia Residual": 2.51011,
                  "Economy (GDP per Capita)": 1.39451,
                  "Family": 1.24711,
                  "Freedom": 0.54604,
                  "Generosity": 0.40105,
                  "Happiness Rank": 15,
                  "Happiness Score": 7.119,
                  "Health (Life Expectancy)": 0.86179,
                  "Region": "North America",
                  "Standard Error": 0.03839,
                  "Trust (Government Corruption)": 0.1589,
                  "index": 14
                },
                {
                  "Country": "Brazil",
                  "Dystopia Residual": 3.26001,
                  "Economy (GDP per Capita)": 0.98124,
                  "Family": 1.23287,
                  "Freedom": 0.49049,
                  "Generosity": 0.14574,
                  "Happiness Rank": 16,
                  "Happiness Score": 6.983,
                  "Health (Life Expectancy)": 0.69702,
                  "Region": "Latin America and Caribbean",
                  "Standard Error": 0.04076,
                  "Trust (Government Corruption)": 0.17521,
                  "index": 15
                },
                {
                  "Country": "Luxembourg",
                  "Dystopia Residual": 1.96961,
                  "Economy (GDP per Capita)": 1.56391,
                  "Family": 1.21963,
                  "Freedom": 0.61583,
                  "Generosity": 0.28034,
                  "Happiness Rank": 17,
                  "Happiness Score": 6.946,
                  "Health (Life Expectancy)": 0.91894,
                  "Region": "Western Europe",
                  "Standard Error": 0.03499,
                  "Trust (Government Corruption)": 0.37798,
                  "index": 16
                },
                {
                  "Country": "Ireland",
                  "Dystopia Residual": 1.9757,
                  "Economy (GDP per Capita)": 1.33596,
                  "Family": 1.36948,
                  "Freedom": 0.61777,
                  "Generosity": 0.45901,
                  "Happiness Rank": 18,
                  "Happiness Score": 6.94,
                  "Health (Life Expectancy)": 0.89533,
                  "Region": "Western Europe",
                  "Standard Error": 0.03676,
                  "Trust (Government Corruption)": 0.28703,
                  "index": 17
                },
                {
                  "Country": "Belgium",
                  "Dystopia Residual": 2.41484,
                  "Economy (GDP per Capita)": 1.30782,
                  "Family": 1.28566,
                  "Freedom": 0.5845,
                  "Generosity": 0.2225,
                  "Happiness Rank": 19,
                  "Happiness Score": 6.937,
                  "Health (Life Expectancy)": 0.89667,
                  "Region": "Western Europe",
                  "Standard Error": 0.03595,
                  "Trust (Government Corruption)": 0.2254,
                  "index": 18
                },
                {
                  "Country": "United Arab Emirates",
                  "Dystopia Residual": 2.24743,
                  "Economy (GDP per Capita)": 1.42727,
                  "Family": 1.12575,
                  "Freedom": 0.64157,
                  "Generosity": 0.26428,
                  "Happiness Rank": 20,
                  "Happiness Score": 6.901,
                  "Health (Life Expectancy)": 0.80925,
                  "Region": "Middle East and Northern Africa",
                  "Standard Error": 0.03729,
                  "Trust (Government Corruption)": 0.38583,
                  "index": 19
                },
                {
                  "Country": "United Kingdom",
                  "Dystopia Residual": 1.96994,
                  "Economy (GDP per Capita)": 1.26637,
                  "Family": 1.28548,
                  "Freedom": 0.59625,
                  "Generosity": 0.51912,
                  "Happiness Rank": 21,
                  "Happiness Score": 6.867,
                  "Health (Life Expectancy)": 0.90943,
                  "Region": "Western Europe",
                  "Standard Error": 0.01866,
                  "Trust (Government Corruption)": 0.32067,
                  "index": 20
                },
                {
                  "Country": "Oman",
                  "Dystopia Residual": 2.47489,
                  "Economy (GDP per Capita)": 1.36011,
                  "Family": 1.08182,
                  "Freedom": 0.63274,
                  "Generosity": 0.21542,
                  "Happiness Rank": 22,
                  "Happiness Score": 6.853,
                  "Health (Life Expectancy)": 0.76276,
                  "Region": "Middle East and Northern Africa",
                  "Standard Error": 0.05335,
                  "Trust (Government Corruption)": 0.32524,
                  "index": 21
                },
                {
                  "Country": "Venezuela",
                  "Dystopia Residual": 3.19131,
                  "Economy (GDP per Capita)": 1.04424,
                  "Family": 1.25596,
                  "Freedom": 0.42908,
                  "Generosity": 0.05841,
                  "Happiness Rank": 23,
                  "Happiness Score": 6.81,
                  "Health (Life Expectancy)": 0.72052,
                  "Region": "Latin America and Caribbean",
                  "Standard Error": 0.06476,
                  "Trust (Government Corruption)": 0.11069,
                  "index": 22
                },
                {
                  "Country": "Singapore",
                  "Dystopia Residual": 1.88501,
                  "Economy (GDP per Capita)": 1.52186,
                  "Family": 1.02,
                  "Freedom": 0.54252,
                  "Generosity": 0.31105,
                  "Happiness Rank": 24,
                  "Happiness Score": 6.798,
                  "Health (Life Expectancy)": 1.02525,
                  "Region": "Southeastern Asia",
                  "Standard Error": 0.0378,
                  "Trust (Government Corruption)": 0.4921,
                  "index": 23
                },
                {
                  "Country": "Panama",
                  "Dystopia Residual": 2.84848,
                  "Economy (GDP per Capita)": 1.06353,
                  "Family": 1.1985,
                  "Freedom": 0.5421,
                  "Generosity": 0.24434,
                  "Happiness Rank": 25,
                  "Happiness Score": 6.786,
                  "Health (Life Expectancy)": 0.79661,
                  "Region": "Latin America and Caribbean",
                  "Standard Error": 0.0491,
                  "Trust (Government Corruption)": 0.0927,
                  "index": 24
                },
                {
                  "Country": "Germany",
                  "Dystopia Residual": 2.11569,
                  "Economy (GDP per Capita)": 1.32792,
                  "Family": 1.29937,
                  "Freedom": 0.61477,
                  "Generosity": 0.28214,
                  "Happiness Rank": 26,
                  "Happiness Score": 6.75,
                  "Health (Life Expectancy)": 0.89186,
                  "Region": "Western Europe",
                  "Standard Error": 0.01848,
                  "Trust (Government Corruption)": 0.21843,
                  "index": 25
                },
                {
                  "Country": "Chile",
                  "Dystopia Residual": 2.67585,
                  "Economy (GDP per Capita)": 1.10715,
                  "Family": 1.12447,
                  "Freedom": 0.44132,
                  "Generosity": 0.33363,
                  "Happiness Rank": 27,
                  "Happiness Score": 6.67,
                  "Health (Life Expectancy)": 0.85857,
                  "Region": "Latin America and Caribbean",
                  "Standard Error": 0.058,
                  "Trust (Government Corruption)": 0.12869,
                  "index": 26
                },
                {
                  "Country": "Qatar",
                  "Dystopia Residual": 1.55674,
                  "Economy (GDP per Capita)": 1.69042,
                  "Family": 1.0786,
                  "Freedom": 0.6404,
                  "Generosity": 0.32573,
                  "Happiness Rank": 28,
                  "Happiness Score": 6.611,
                  "Health (Life Expectancy)": 0.79733,
                  "Region": "Middle East and Northern Africa",
                  "Standard Error": 0.06257,
                  "Trust (Government Corruption)": 0.52208,
                  "index": 27
                },
                {
                  "Country": "France",
                  "Dystopia Residual": 2.21126,
                  "Economy (GDP per Capita)": 1.27778,
                  "Family": 1.26038,
                  "Freedom": 0.55011,
                  "Generosity": 0.12332,
                  "Happiness Rank": 29,
                  "Happiness Score": 6.575,
                  "Health (Life Expectancy)": 0.94579,
                  "Region": "Western Europe",
                  "Standard Error": 0.03512,
                  "Trust (Government Corruption)": 0.20646,
                  "index": 28
                },
                {
                  "Country": "Argentina",
                  "Dystopia Residual": 2.836,
                  "Economy (GDP per Capita)": 1.05351,
                  "Family": 1.24823,
                  "Freedom": 0.44974,
                  "Generosity": 0.11451,
                  "Happiness Rank": 30,
                  "Happiness Score": 6.574,
                  "Health (Life Expectancy)": 0.78723,
                  "Region": "Latin America and Caribbean",
                  "Standard Error": 0.04612,
                  "Trust (Government Corruption)": 0.08484,
                  "index": 29
                },
                {
                  "Country": "Czech Republic",
                  "Dystopia Residual": 2.67782,
                  "Economy (GDP per Capita)": 1.17898,
                  "Family": 1.20643,
                  "Freedom": 0.46364,
                  "Generosity": 0.10686,
                  "Happiness Rank": 31,
                  "Happiness Score": 6.505,
                  "Health (Life Expectancy)": 0.84483,
                  "Region": "Central and Eastern Europe",
                  "Standard Error": 0.04168,
                  "Trust (Government Corruption)": 0.02652,
                  "index": 30
                },
                {
                  "Country": "Uruguay",
                  "Dystopia Residual": 2.32142,
                  "Economy (GDP per Capita)": 1.06166,
                  "Family": 1.2089,
                  "Freedom": 0.60362,
                  "Generosity": 0.2324,
                  "Happiness Rank": 32,
                  "Happiness Score": 6.485,
                  "Health (Life Expectancy)": 0.8116,
                  "Region": "Latin America and Caribbean",
                  "Standard Error": 0.04539,
                  "Trust (Government Corruption)": 0.24558,
                  "index": 31
                },
                {
                  "Country": "Colombia",
                  "Dystopia Residual": 2.85737,
                  "Economy (GDP per Capita)": 0.91861,
                  "Family": 1.24018,
                  "Freedom": 0.53466,
                  "Generosity": 0.18401,
                  "Happiness Rank": 33,
                  "Happiness Score": 6.477,
                  "Health (Life Expectancy)": 0.69077,
                  "Region": "Latin America and Caribbean",
                  "Standard Error": 0.05051,
                  "Trust (Government Corruption)": 0.0512,
                  "index": 32
                },
                {
                  "Country": "Thailand",
                  "Dystopia Residual": 2.31945,
                  "Economy (GDP per Capita)": 0.9669,
                  "Family": 1.26504,
                  "Freedom": 0.55664,
                  "Generosity": 0.5763,
                  "Happiness Rank": 34,
                  "Happiness Score": 6.455,
                  "Health (Life Expectancy)": 0.7385,
                  "Region": "Southeastern Asia",
                  "Standard Error": 0.03557,
                  "Trust (Government Corruption)": 0.03187,
                  "index": 33
                },
                {
                  "Country": "Saudi Arabia",
                  "Dystopia Residual": 2.43872,
                  "Economy (GDP per Capita)": 1.39541,
                  "Family": 1.08393,
                  "Freedom": 0.31048,
                  "Generosity": 0.13706,
                  "Happiness Rank": 35,
                  "Happiness Score": 6.411,
                  "Health (Life Expectancy)": 0.72025,
                  "Region": "Middle East and Northern Africa",
                  "Standard Error": 0.04633,
                  "Trust (Government Corruption)": 0.32524,
                  "index": 34
                },
                {
                  "Country": "Spain",
                  "Dystopia Residual": 2.12367,
                  "Economy (GDP per Capita)": 1.23011,
                  "Family": 1.31379,
                  "Freedom": 0.45951,
                  "Generosity": 0.18227,
                  "Happiness Rank": 36,
                  "Happiness Score": 6.329,
                  "Health (Life Expectancy)": 0.95562,
                  "Region": "Western Europe",
                  "Standard Error": 0.03468,
                  "Trust (Government Corruption)": 0.06398,
                  "index": 35
                },
                {
                  "Country": "Malta",
                  "Dystopia Residual": 1.6488,
                  "Economy (GDP per Capita)": 1.2074,
                  "Family": 1.30203,
                  "Freedom": 0.60365,
                  "Generosity": 0.51752,
                  "Happiness Rank": 37,
                  "Happiness Score": 6.302,
                  "Health (Life Expectancy)": 0.88721,
                  "Region": "Western Europe",
                  "Standard Error": 0.04206,
                  "Trust (Government Corruption)": 0.13586,
                  "index": 36
                },
                {
                  "Country": "Taiwan",
                  "Dystopia Residual": 2.32323,
                  "Economy (GDP per Capita)": 1.29098,
                  "Family": 1.07617,
                  "Freedom": 0.3974,
                  "Generosity": 0.25376,
                  "Happiness Rank": 38,
                  "Happiness Score": 6.298,
                  "Health (Life Expectancy)": 0.8753,
                  "Region": "Eastern Asia",
                  "Standard Error": 0.03868,
                  "Trust (Government Corruption)": 0.08129,
                  "index": 37
                },
                {
                  "Country": "Kuwait",
                  "Dystopia Residual": 1.87634,
                  "Economy (GDP per Capita)": 1.55422,
                  "Family": 1.16594,
                  "Freedom": 0.55499,
                  "Generosity": 0.16228,
                  "Happiness Rank": 39,
                  "Happiness Score": 6.295,
                  "Health (Life Expectancy)": 0.72492,
                  "Region": "Middle East and Northern Africa",
                  "Standard Error": 0.04456,
                  "Trust (Government Corruption)": 0.25609,
                  "index": 38
                },
                {
                  "Country": "Suriname",
                  "Dystopia Residual": 2.79094,
                  "Economy (GDP per Capita)": 0.99534,
                  "Family": 0.972,
                  "Freedom": 0.59657,
                  "Generosity": 0.16991,
                  "Happiness Rank": 40,
                  "Happiness Score": 6.269,
                  "Health (Life Expectancy)": 0.6082,
                  "Region": "Latin America and Caribbean",
                  "Standard Error": 0.09811,
                  "Trust (Government Corruption)": 0.13633,
                  "index": 39
                },
                {
                  "Country": "Trinidad and Tobago",
                  "Dystopia Residual": 2.26882,
                  "Economy (GDP per Capita)": 1.21183,
                  "Family": 1.18354,
                  "Freedom": 0.55884,
                  "Generosity": 0.31844,
                  "Happiness Rank": 41,
                  "Happiness Score": 6.168,
                  "Health (Life Expectancy)": 0.61483,
                  "Region": "Latin America and Caribbean",
                  "Standard Error": 0.10895,
                  "Trust (Government Corruption)": 0.0114,
                  "index": 40
                },
                {
                  "Country": "El Salvador",
                  "Dystopia Residual": 3.035,
                  "Economy (GDP per Capita)": 0.76454,
                  "Family": 1.02507,
                  "Freedom": 0.4035,
                  "Generosity": 0.10692,
                  "Happiness Rank": 42,
                  "Happiness Score": 6.13,
                  "Health (Life Expectancy)": 0.67737,
                  "Region": "Latin America and Caribbean",
                  "Standard Error": 0.05618,
                  "Trust (Government Corruption)": 0.11776,
                  "index": 41
                },
                {
                  "Country": "Guatemala",
                  "Dystopia Residual": 2.74255,
                  "Economy (GDP per Capita)": 0.74553,
                  "Family": 1.04356,
                  "Freedom": 0.57733,
                  "Generosity": 0.27489,
                  "Happiness Rank": 43,
                  "Happiness Score": 6.123,
                  "Health (Life Expectancy)": 0.64425,
                  "Region": "Latin America and Caribbean",
                  "Standard Error": 0.05224,
                  "Trust (Government Corruption)": 0.09472,
                  "index": 42
                },
                {
                  "Country": "Uzbekistan",
                  "Dystopia Residual": 2.23741,
                  "Economy (GDP per Capita)": 0.63244,
                  "Family": 1.34043,
                  "Freedom": 0.65821,
                  "Generosity": 0.22837,
                  "Happiness Rank": 44,
                  "Happiness Score": 6.003,
                  "Health (Life Expectancy)": 0.59772,
                  "Region": "Central and Eastern Europe",
                  "Standard Error": 0.04361,
                  "Trust (Government Corruption)": 0.30826,
                  "index": 43
                },
                {
                  "Country": "Slovakia",
                  "Dystopia Residual": 2.24639,
                  "Economy (GDP per Capita)": 1.16891,
                  "Family": 1.26999,
                  "Freedom": 0.31751,
                  "Generosity": 0.16893,
                  "Happiness Rank": 45,
                  "Happiness Score": 5.995,
                  "Health (Life Expectancy)": 0.78902,
                  "Region": "Central and Eastern Europe",
                  "Standard Error": 0.04267,
                  "Trust (Government Corruption)": 0.03431,
                  "index": 44
                },
                {
                  "Country": "Japan",
                  "Dystopia Residual": 1.68435,
                  "Economy (GDP per Capita)": 1.27074,
                  "Family": 1.25712,
                  "Freedom": 0.49615,
                  "Generosity": 0.10705,
                  "Happiness Rank": 46,
                  "Happiness Score": 5.987,
                  "Health (Life Expectancy)": 0.99111,
                  "Region": "Eastern Asia",
                  "Standard Error": 0.03581,
                  "Trust (Government Corruption)": 0.1806,
                  "index": 45
                },
                {
                  "Country": "South Korea",
                  "Dystopia Residual": 2.21978,
                  "Economy (GDP per Capita)": 1.24461,
                  "Family": 0.95774,
                  "Freedom": 0.33208,
                  "Generosity": 0.18557,
                  "Happiness Rank": 47,
                  "Happiness Score": 5.984,
                  "Health (Life Expectancy)": 0.96538,
                  "Region": "Eastern Asia",
                  "Standard Error": 0.04098,
                  "Trust (Government Corruption)": 0.07857,
                  "index": 46
                },
                {
                  "Country": "Ecuador",
                  "Dystopia Residual": 2.53942,
                  "Economy (GDP per Capita)": 0.86402,
                  "Family": 0.99903,
                  "Freedom": 0.48574,
                  "Generosity": 0.11541,
                  "Happiness Rank": 48,
                  "Happiness Score": 5.975,
                  "Health (Life Expectancy)": 0.79075,
                  "Region": "Latin America and Caribbean",
                  "Standard Error": 0.04528,
                  "Trust (Government Corruption)": 0.1809,
                  "index": 47
                },
                {
                  "Country": "Bahrain",
                  "Dystopia Residual": 1.73797,
                  "Economy (GDP per Capita)": 1.32376,
                  "Family": 1.21624,
                  "Freedom": 0.45492,
                  "Generosity": 0.17362,
                  "Happiness Rank": 49,
                  "Happiness Score": 5.96,
                  "Health (Life Expectancy)": 0.74716,
                  "Region": "Middle East and Northern Africa",
                  "Standard Error": 0.05412,
                  "Trust (Government Corruption)": 0.306,
                  "index": 48
                },
                {
                  "Country": "Italy",
                  "Dystopia Residual": 2.02518,
                  "Economy (GDP per Capita)": 1.25114,
                  "Family": 1.19777,
                  "Freedom": 0.26236,
                  "Generosity": 0.22823,
                  "Happiness Rank": 50,
                  "Happiness Score": 5.948,
                  "Health (Life Expectancy)": 0.95446,
                  "Region": "Western Europe",
                  "Standard Error": 0.03914,
                  "Trust (Government Corruption)": 0.02901,
                  "index": 49
                },
                {
                  "Country": "Bolivia",
                  "Dystopia Residual": 2.82334,
                  "Economy (GDP per Capita)": 0.68133,
                  "Family": 0.97841,
                  "Freedom": 0.57414,
                  "Generosity": 0.20536,
                  "Happiness Rank": 51,
                  "Happiness Score": 5.89,
                  "Health (Life Expectancy)": 0.5392,
                  "Region": "Latin America and Caribbean",
                  "Standard Error": 0.05642,
                  "Trust (Government Corruption)": 0.088,
                  "index": 50
                },
                {
                  "Country": "Moldova",
                  "Dystopia Residual": 3.10712,
                  "Economy (GDP per Capita)": 0.59448,
                  "Family": 1.01528,
                  "Freedom": 0.32818,
                  "Generosity": 0.20951,
                  "Happiness Rank": 52,
                  "Happiness Score": 5.889,
                  "Health (Life Expectancy)": 0.61826,
                  "Region": "Central and Eastern Europe",
                  "Standard Error": 0.03799,
                  "Trust (Government Corruption)": 0.01615,
                  "index": 51
                },
                {
                  "Country": "Paraguay",
                  "Dystopia Residual": 2.18896,
                  "Economy (GDP per Capita)": 0.75985,
                  "Family": 1.30477,
                  "Freedom": 0.53899,
                  "Generosity": 0.3424,
                  "Happiness Rank": 53,
                  "Happiness Score": 5.878,
                  "Health (Life Expectancy)": 0.66098,
                  "Region": "Latin America and Caribbean",
                  "Standard Error": 0.04563,
                  "Trust (Government Corruption)": 0.08242,
                  "index": 52
                },
                {
                  "Country": "Kazakhstan",
                  "Dystopia Residual": 2.24729,
                  "Economy (GDP per Capita)": 1.12254,
                  "Family": 1.12241,
                  "Freedom": 0.51649,
                  "Generosity": 0.11827,
                  "Happiness Rank": 54,
                  "Happiness Score": 5.855,
                  "Health (Life Expectancy)": 0.64368,
                  "Region": "Central and Eastern Europe",
                  "Standard Error": 0.04114,
                  "Trust (Government Corruption)": 0.08454,
                  "index": 53
                },
                {
                  "Country": "Slovenia",
                  "Dystopia Residual": 1.61583,
                  "Economy (GDP per Capita)": 1.18498,
                  "Family": 1.27385,
                  "Freedom": 0.60855,
                  "Generosity": 0.25328,
                  "Happiness Rank": 55,
                  "Happiness Score": 5.848,
                  "Health (Life Expectancy)": 0.87337,
                  "Region": "Central and Eastern Europe",
                  "Standard Error": 0.04251,
                  "Trust (Government Corruption)": 0.03787,
                  "index": 54
                },
                {
                  "Country": "Lithuania",
                  "Dystopia Residual": 2.44649,
                  "Economy (GDP per Capita)": 1.14723,
                  "Family": 1.25745,
                  "Freedom": 0.21342,
                  "Generosity": 0.02641,
                  "Happiness Rank": 56,
                  "Happiness Score": 5.833,
                  "Health (Life Expectancy)": 0.73128,
                  "Region": "Central and Eastern Europe",
                  "Standard Error": 0.03843,
                  "Trust (Government Corruption)": 0.01031,
                  "index": 55
                },
                {
                  "Country": "Nicaragua",
                  "Dystopia Residual": 2.32407,
                  "Economy (GDP per Capita)": 0.59325,
                  "Family": 1.14184,
                  "Freedom": 0.55475,
                  "Generosity": 0.27815,
                  "Happiness Rank": 57,
                  "Happiness Score": 5.828,
                  "Health (Life Expectancy)": 0.74314,
                  "Region": "Latin America and Caribbean",
                  "Standard Error": 0.05371,
                  "Trust (Government Corruption)": 0.19317,
                  "index": 56
                },
                {
                  "Country": "Peru",
                  "Dystopia Residual": 2.5945,
                  "Economy (GDP per Capita)": 0.90019,
                  "Family": 0.97459,
                  "Freedom": 0.41496,
                  "Generosity": 0.14982,
                  "Happiness Rank": 58,
                  "Happiness Score": 5.824,
                  "Health (Life Expectancy)": 0.73017,
                  "Region": "Latin America and Caribbean",
                  "Standard Error": 0.04615,
                  "Trust (Government Corruption)": 0.05989,
                  "index": 57
                },
                {
                  "Country": "Belarus",
                  "Dystopia Residual": 2.1309,
                  "Economy (GDP per Capita)": 1.03192,
                  "Family": 1.23289,
                  "Freedom": 0.37938,
                  "Generosity": 0.11046,
                  "Happiness Rank": 59,
                  "Happiness Score": 5.813,
                  "Health (Life Expectancy)": 0.73608,
                  "Region": "Central and Eastern Europe",
                  "Standard Error": 0.03938,
                  "Trust (Government Corruption)": 0.1909,
                  "index": 58
                },
                {
                  "Country": "Poland",
                  "Dystopia Residual": 1.86565,
                  "Economy (GDP per Capita)": 1.12555,
                  "Family": 1.27948,
                  "Freedom": 0.53122,
                  "Generosity": 0.16759,
                  "Happiness Rank": 60,
                  "Happiness Score": 5.791,
                  "Health (Life Expectancy)": 0.77903,
                  "Region": "Central and Eastern Europe",
                  "Standard Error": 0.04263,
                  "Trust (Government Corruption)": 0.04212,
                  "index": 59
                },
                {
                  "Country": "Malaysia",
                  "Dystopia Residual": 1.88541,
                  "Economy (GDP per Capita)": 1.12486,
                  "Family": 1.07023,
                  "Freedom": 0.53024,
                  "Generosity": 0.33075,
                  "Happiness Rank": 61,
                  "Happiness Score": 5.77,
                  "Health (Life Expectancy)": 0.72394,
                  "Region": "Southeastern Asia",
                  "Standard Error": 0.0433,
                  "Trust (Government Corruption)": 0.10501,
                  "index": 60
                },
                {
                  "Country": "Croatia",
                  "Dystopia Residual": 2.75414,
                  "Economy (GDP per Capita)": 1.08254,
                  "Family": 0.79624,
                  "Freedom": 0.25883,
                  "Generosity": 0.05444,
                  "Happiness Rank": 62,
                  "Happiness Score": 5.759,
                  "Health (Life Expectancy)": 0.78805,
                  "Region": "Central and Eastern Europe",
                  "Standard Error": 0.04394,
                  "Trust (Government Corruption)": 0.0243,
                  "index": 61
                },
                {
                  "Country": "Libya",
                  "Dystopia Residual": 2.09066,
                  "Economy (GDP per Capita)": 1.13145,
                  "Family": 1.11862,
                  "Freedom": 0.41668,
                  "Generosity": 0.18295,
                  "Happiness Rank": 63,
                  "Happiness Score": 5.754,
                  "Health (Life Expectancy)": 0.7038,
                  "Region": "Middle East and Northern Africa",
                  "Standard Error": 0.07832,
                  "Trust (Government Corruption)": 0.11023,
                  "index": 62
                },
                {
                  "Country": "Russia",
                  "Dystopia Residual": 2.27394,
                  "Economy (GDP per Capita)": 1.13764,
                  "Family": 1.23617,
                  "Freedom": 0.36679,
                  "Generosity": 0.00199,
                  "Happiness Rank": 64,
                  "Happiness Score": 5.716,
                  "Health (Life Expectancy)": 0.66926,
                  "Region": "Central and Eastern Europe",
                  "Standard Error": 0.03135,
                  "Trust (Government Corruption)": 0.03005,
                  "index": 63
                },
                {
                  "Country": "Jamaica",
                  "Dystopia Residual": 2.32038,
                  "Economy (GDP per Capita)": 0.81038,
                  "Family": 1.15102,
                  "Freedom": 0.50442,
                  "Generosity": 0.2123,
                  "Happiness Rank": 65,
                  "Happiness Score": 5.709,
                  "Health (Life Expectancy)": 0.68741,
                  "Region": "Latin America and Caribbean",
                  "Standard Error": 0.13693,
                  "Trust (Government Corruption)": 0.02299,
                  "index": 64
                },
                {
                  "Country": "North Cyprus",
                  "Dystopia Residual": 1.59888,
                  "Economy (GDP per Capita)": 1.20806,
                  "Family": 1.07008,
                  "Freedom": 0.49027,
                  "Generosity": 0.26169,
                  "Happiness Rank": 66,
                  "Happiness Score": 5.695,
                  "Health (Life Expectancy)": 0.92356,
                  "Region": "Western Europe",
                  "Standard Error": 0.05635,
                  "Trust (Government Corruption)": 0.1428,
                  "index": 65
                },
                {
                  "Country": "Cyprus",
                  "Dystopia Residual": 1.88931,
                  "Economy (GDP per Capita)": 1.20813,
                  "Family": 0.89318,
                  "Freedom": 0.40672,
                  "Generosity": 0.30638,
                  "Happiness Rank": 67,
                  "Happiness Score": 5.689,
                  "Health (Life Expectancy)": 0.92356,
                  "Region": "Western Europe",
                  "Standard Error": 0.0558,
                  "Trust (Government Corruption)": 0.06146,
                  "index": 66
                },
                {
                  "Country": "Algeria",
                  "Dystopia Residual": 2.43209,
                  "Economy (GDP per Capita)": 0.93929,
                  "Family": 1.07772,
                  "Freedom": 0.28579,
                  "Generosity": 0.07822,
                  "Happiness Rank": 68,
                  "Happiness Score": 5.605,
                  "Health (Life Expectancy)": 0.61766,
                  "Region": "Middle East and Northern Africa",
                  "Standard Error": 0.05099,
                  "Trust (Government Corruption)": 0.17383,
                  "index": 67
                },
                {
                  "Country": "Kosovo",
                  "Dystopia Residual": 2.76579,
                  "Economy (GDP per Capita)": 0.80148,
                  "Family": 0.81198,
                  "Freedom": 0.24749,
                  "Generosity": 0.2831,
                  "Happiness Rank": 69,
                  "Happiness Score": 5.589,
                  "Health (Life Expectancy)": 0.63132,
                  "Region": "Central and Eastern Europe",
                  "Standard Error": 0.05018,
                  "Trust (Government Corruption)": 0.04741,
                  "index": 68
                },
                {
                  "Country": "Turkmenistan",
                  "Dystopia Residual": 1.86984,
                  "Economy (GDP per Capita)": 0.95847,
                  "Family": 1.22668,
                  "Freedom": 0.4761,
                  "Generosity": 0.16979,
                  "Happiness Rank": 70,
                  "Happiness Score": 5.548,
                  "Health (Life Expectancy)": 0.53886,
                  "Region": "Central and Eastern Europe",
                  "Standard Error": 0.04175,
                  "Trust (Government Corruption)": 0.30844,
                  "index": 69
                },
                {
                  "Country": "Mauritius",
                  "Dystopia Residual": 1.76145,
                  "Economy (GDP per Capita)": 1.00761,
                  "Family": 0.98521,
                  "Freedom": 0.56066,
                  "Generosity": 0.37744,
                  "Happiness Rank": 71,
                  "Happiness Score": 5.477,
                  "Health (Life Expectancy)": 0.7095,
                  "Region": "Sub-Saharan Africa",
                  "Standard Error": 0.07197,
                  "Trust (Government Corruption)": 0.07521,
                  "index": 70
                },
                {
                  "Country": "Hong Kong",
                  "Dystopia Residual": 0.65429,
                  "Economy (GDP per Capita)": 1.38604,
                  "Family": 1.05818,
                  "Freedom": 0.59608,
                  "Generosity": 0.39478,
                  "Happiness Rank": 72,
                  "Happiness Score": 5.474,
                  "Health (Life Expectancy)": 1.01328,
                  "Region": "Eastern Asia",
                  "Standard Error": 0.05051,
                  "Trust (Government Corruption)": 0.37124,
                  "index": 71
                },
                {
                  "Country": "Estonia",
                  "Dystopia Residual": 1.58782,
                  "Economy (GDP per Capita)": 1.15174,
                  "Family": 1.22791,
                  "Freedom": 0.44888,
                  "Generosity": 0.0868,
                  "Happiness Rank": 73,
                  "Happiness Score": 5.429,
                  "Health (Life Expectancy)": 0.77361,
                  "Region": "Central and Eastern Europe",
                  "Standard Error": 0.04013,
                  "Trust (Government Corruption)": 0.15184,
                  "index": 72
                },
                {
                  "Country": "Indonesia",
                  "Dystopia Residual": 1.86399,
                  "Economy (GDP per Capita)": 0.82827,
                  "Family": 1.08708,
                  "Freedom": 0.46611,
                  "Generosity": 0.51535,
                  "Happiness Rank": 74,
                  "Happiness Score": 5.399,
                  "Health (Life Expectancy)": 0.63793,
                  "Region": "Southeastern Asia",
                  "Standard Error": 0.02596,
                  "Trust (Government Corruption)": 0,
                  "index": 73
                },
                {
                  "Country": "Vietnam",
                  "Dystopia Residual": 2.20173,
                  "Economy (GDP per Capita)": 0.63216,
                  "Family": 0.91226,
                  "Freedom": 0.59444,
                  "Generosity": 0.1686,
                  "Happiness Rank": 75,
                  "Happiness Score": 5.36,
                  "Health (Life Expectancy)": 0.74676,
                  "Region": "Southeastern Asia",
                  "Standard Error": 0.03107,
                  "Trust (Government Corruption)": 0.10441,
                  "index": 74
                },
                {
                  "Country": "Turkey",
                  "Dystopia Residual": 2.08528,
                  "Economy (GDP per Capita)": 1.06098,
                  "Family": 0.94632,
                  "Freedom": 0.22815,
                  "Generosity": 0.12253,
                  "Happiness Rank": 76,
                  "Happiness Score": 5.332,
                  "Health (Life Expectancy)": 0.73172,
                  "Region": "Middle East and Northern Africa",
                  "Standard Error": 0.03864,
                  "Trust (Government Corruption)": 0.15746,
                  "index": 75
                },
                {
                  "Country": "Kyrgyzstan",
                  "Dystopia Residual": 2.2327,
                  "Economy (GDP per Capita)": 0.47428,
                  "Family": 1.15115,
                  "Freedom": 0.43477,
                  "Generosity": 0.3003,
                  "Happiness Rank": 77,
                  "Happiness Score": 5.286,
                  "Health (Life Expectancy)": 0.65088,
                  "Region": "Central and Eastern Europe",
                  "Standard Error": 0.03823,
                  "Trust (Government Corruption)": 0.04232,
                  "index": 76
                },
                {
                  "Country": "Nigeria",
                  "Dystopia Residual": 2.89319,
                  "Economy (GDP per Capita)": 0.65435,
                  "Family": 0.90432,
                  "Freedom": 0.34334,
                  "Generosity": 0.27233,
                  "Happiness Rank": 78,
                  "Happiness Score": 5.268,
                  "Health (Life Expectancy)": 0.16007,
                  "Region": "Sub-Saharan Africa",
                  "Standard Error": 0.04192,
                  "Trust (Government Corruption)": 0.0403,
                  "index": 77
                },
                {
                  "Country": "Bhutan",
                  "Dystopia Residual": 1.63794,
                  "Economy (GDP per Capita)": 0.77042,
                  "Family": 1.10395,
                  "Freedom": 0.53206,
                  "Generosity": 0.47998,
                  "Happiness Rank": 79,
                  "Happiness Score": 5.253,
                  "Health (Life Expectancy)": 0.57407,
                  "Region": "Southern Asia",
                  "Standard Error": 0.03225,
                  "Trust (Government Corruption)": 0.15445,
                  "index": 78
                },
                {
                  "Country": "Azerbaijan",
                  "Dystopia Residual": 2.00073,
                  "Economy (GDP per Capita)": 1.02389,
                  "Family": 0.93793,
                  "Freedom": 0.3703,
                  "Generosity": 0.07799,
                  "Happiness Rank": 80,
                  "Happiness Score": 5.212,
                  "Health (Life Expectancy)": 0.64045,
                  "Region": "Central and Eastern Europe",
                  "Standard Error": 0.03363,
                  "Trust (Government Corruption)": 0.16065,
                  "index": 79
                },
                {
                  "Country": "Pakistan",
                  "Dystopia Residual": 3.10709,
                  "Economy (GDP per Capita)": 0.59543,
                  "Family": 0.41411,
                  "Freedom": 0.12102,
                  "Generosity": 0.33671,
                  "Happiness Rank": 81,
                  "Happiness Score": 5.194,
                  "Health (Life Expectancy)": 0.51466,
                  "Region": "Southern Asia",
                  "Standard Error": 0.03726,
                  "Trust (Government Corruption)": 0.10464,
                  "index": 80
                },
                {
                  "Country": "Jordan",
                  "Dystopia Residual": 1.87996,
                  "Economy (GDP per Capita)": 0.90198,
                  "Family": 1.05392,
                  "Freedom": 0.40661,
                  "Generosity": 0.11053,
                  "Happiness Rank": 82,
                  "Happiness Score": 5.192,
                  "Health (Life Expectancy)": 0.69639,
                  "Region": "Middle East and Northern Africa",
                  "Standard Error": 0.04524,
                  "Trust (Government Corruption)": 0.14293,
                  "index": 81
                },
                {
                  "Country": "Montenegro",
                  "Dystopia Residual": 2.10017,
                  "Economy (GDP per Capita)": 0.97438,
                  "Family": 0.90557,
                  "Freedom": 0.1826,
                  "Generosity": 0.1614,
                  "Happiness Rank": 82,
                  "Happiness Score": 5.192,
                  "Health (Life Expectancy)": 0.72521,
                  "Region": "Central and Eastern Europe",
                  "Standard Error": 0.05235,
                  "Trust (Government Corruption)": 0.14296,
                  "index": 82
                },
                {
                  "Country": "China",
                  "Dystopia Residual": 1.8604,
                  "Economy (GDP per Capita)": 0.89012,
                  "Family": 0.94675,
                  "Freedom": 0.51697,
                  "Generosity": 0.08185,
                  "Happiness Rank": 84,
                  "Happiness Score": 5.14,
                  "Health (Life Expectancy)": 0.81658,
                  "Region": "Eastern Asia",
                  "Standard Error": 0.02424,
                  "Trust (Government Corruption)": 0.02781,
                  "index": 83
                },
                {
                  "Country": "Zambia",
                  "Dystopia Residual": 2.6343,
                  "Economy (GDP per Capita)": 0.47038,
                  "Family": 0.91612,
                  "Freedom": 0.48827,
                  "Generosity": 0.19591,
                  "Happiness Rank": 85,
                  "Happiness Score": 5.129,
                  "Health (Life Expectancy)": 0.29924,
                  "Region": "Sub-Saharan Africa",
                  "Standard Error": 0.06988,
                  "Trust (Government Corruption)": 0.12468,
                  "index": 84
                },
                {
                  "Country": "Romania",
                  "Dystopia Residual": 1.93129,
                  "Economy (GDP per Capita)": 1.04345,
                  "Family": 0.88588,
                  "Freedom": 0.35068,
                  "Generosity": 0.13748,
                  "Happiness Rank": 86,
                  "Happiness Score": 5.124,
                  "Health (Life Expectancy)": 0.7689,
                  "Region": "Central and Eastern Europe",
                  "Standard Error": 0.06607,
                  "Trust (Government Corruption)": 0.00649,
                  "index": 85
                },
                {
                  "Country": "Serbia",
                  "Dystopia Residual": 2.025,
                  "Economy (GDP per Capita)": 0.92053,
                  "Family": 1.00964,
                  "Freedom": 0.20107,
                  "Generosity": 0.19231,
                  "Happiness Rank": 87,
                  "Happiness Score": 5.123,
                  "Health (Life Expectancy)": 0.74836,
                  "Region": "Central and Eastern Europe",
                  "Standard Error": 0.04864,
                  "Trust (Government Corruption)": 0.02617,
                  "index": 86
                },
                {
                  "Country": "Portugal",
                  "Dystopia Residual": 1.26462,
                  "Economy (GDP per Capita)": 1.15991,
                  "Family": 1.13935,
                  "Freedom": 0.51469,
                  "Generosity": 0.13719,
                  "Happiness Rank": 88,
                  "Happiness Score": 5.102,
                  "Health (Life Expectancy)": 0.87519,
                  "Region": "Western Europe",
                  "Standard Error": 0.04802,
                  "Trust (Government Corruption)": 0.01078,
                  "index": 87
                },
                {
                  "Country": "Latvia",
                  "Dystopia Residual": 1.62215,
                  "Economy (GDP per Capita)": 1.11312,
                  "Family": 1.09562,
                  "Freedom": 0.29671,
                  "Generosity": 0.18226,
                  "Happiness Rank": 89,
                  "Happiness Score": 5.098,
                  "Health (Life Expectancy)": 0.72437,
                  "Region": "Central and Eastern Europe",
                  "Standard Error": 0.0464,
                  "Trust (Government Corruption)": 0.06332,
                  "index": 88
                },
                {
                  "Country": "Philippines",
                  "Dystopia Residual": 1.7536,
                  "Economy (GDP per Capita)": 0.70532,
                  "Family": 1.03516,
                  "Freedom": 0.62545,
                  "Generosity": 0.24991,
                  "Happiness Rank": 90,
                  "Happiness Score": 5.073,
                  "Health (Life Expectancy)": 0.58114,
                  "Region": "Southeastern Asia",
                  "Standard Error": 0.04934,
                  "Trust (Government Corruption)": 0.12279,
                  "index": 89
                },
                {
                  "Country": "Somaliland region",
                  "Dystopia Residual": 2.11032,
                  "Economy (GDP per Capita)": 0.18847,
                  "Family": 0.95152,
                  "Freedom": 0.46582,
                  "Generosity": 0.50318,
                  "Happiness Rank": 91,
                  "Happiness Score": 5.057,
                  "Health (Life Expectancy)": 0.43873,
                  "Region": "Sub-Saharan Africa",
                  "Standard Error": 0.06161,
                  "Trust (Government Corruption)": 0.39928,
                  "index": 90
                },
                {
                  "Country": "Morocco",
                  "Dystopia Residual": 2.45373,
                  "Economy (GDP per Capita)": 0.73479,
                  "Family": 0.64095,
                  "Freedom": 0.41691,
                  "Generosity": 0.07172,
                  "Happiness Rank": 92,
                  "Happiness Score": 5.013,
                  "Health (Life Expectancy)": 0.60954,
                  "Region": "Middle East and Northern Africa",
                  "Standard Error": 0.0342,
                  "Trust (Government Corruption)": 0.08546,
                  "index": 91
                },
                {
                  "Country": "Macedonia",
                  "Dystopia Residual": 1.73933,
                  "Economy (GDP per Capita)": 0.91851,
                  "Family": 1.00232,
                  "Freedom": 0.33457,
                  "Generosity": 0.22359,
                  "Happiness Rank": 93,
                  "Happiness Score": 5.007,
                  "Health (Life Expectancy)": 0.73545,
                  "Region": "Central and Eastern Europe",
                  "Standard Error": 0.05376,
                  "Trust (Government Corruption)": 0.05327,
                  "index": 92
                },
                {
                  "Country": "Mozambique",
                  "Dystopia Residual": 3.05137,
                  "Economy (GDP per Capita)": 0.08308,
                  "Family": 1.02626,
                  "Freedom": 0.34037,
                  "Generosity": 0.22269,
                  "Happiness Rank": 94,
                  "Happiness Score": 4.971,
                  "Health (Life Expectancy)": 0.09131,
                  "Region": "Sub-Saharan Africa",
                  "Standard Error": 0.07896,
                  "Trust (Government Corruption)": 0.15603,
                  "index": 93
                },
                {
                  "Country": "Albania",
                  "Dystopia Residual": 1.89894,
                  "Economy (GDP per Capita)": 0.87867,
                  "Family": 0.80434,
                  "Freedom": 0.35733,
                  "Generosity": 0.14272,
                  "Happiness Rank": 95,
                  "Happiness Score": 4.959,
                  "Health (Life Expectancy)": 0.81325,
                  "Region": "Central and Eastern Europe",
                  "Standard Error": 0.05013,
                  "Trust (Government Corruption)": 0.06413,
                  "index": 94
                },
                {
                  "Country": "Bosnia and Herzegovina",
                  "Dystopia Residual": 2.06367,
                  "Economy (GDP per Capita)": 0.83223,
                  "Family": 0.91916,
                  "Freedom": 0.09245,
                  "Generosity": 0.24808,
                  "Happiness Rank": 96,
                  "Happiness Score": 4.949,
                  "Health (Life Expectancy)": 0.79081,
                  "Region": "Central and Eastern Europe",
                  "Standard Error": 0.06913,
                  "Trust (Government Corruption)": 0.00227,
                  "index": 95
                },
                {
                  "Country": "Lesotho",
                  "Dystopia Residual": 2.79832,
                  "Economy (GDP per Capita)": 0.37545,
                  "Family": 1.04103,
                  "Freedom": 0.31767,
                  "Generosity": 0.16388,
                  "Happiness Rank": 97,
                  "Happiness Score": 4.898,
                  "Health (Life Expectancy)": 0.07612,
                  "Region": "Sub-Saharan Africa",
                  "Standard Error": 0.09438,
                  "Trust (Government Corruption)": 0.12504,
                  "index": 96
                },
                {
                  "Country": "Dominican Republic",
                  "Dystopia Residual": 1.21305,
                  "Economy (GDP per Capita)": 0.89537,
                  "Family": 1.17202,
                  "Freedom": 0.57672,
                  "Generosity": 0.21684,
                  "Happiness Rank": 98,
                  "Happiness Score": 4.885,
                  "Health (Life Expectancy)": 0.66825,
                  "Region": "Latin America and Caribbean",
                  "Standard Error": 0.07446,
                  "Trust (Government Corruption)": 0.14234,
                  "index": 97
                },
                {
                  "Country": "Laos",
                  "Dystopia Residual": 1.73799,
                  "Economy (GDP per Capita)": 0.59066,
                  "Family": 0.73803,
                  "Freedom": 0.59591,
                  "Generosity": 0.42192,
                  "Happiness Rank": 99,
                  "Happiness Score": 4.876,
                  "Health (Life Expectancy)": 0.54909,
                  "Region": "Southeastern Asia",
                  "Standard Error": 0.06698,
                  "Trust (Government Corruption)": 0.24249,
                  "index": 98
                },
                {
                  "Country": "Mongolia",
                  "Dystopia Residual": 1.34759,
                  "Economy (GDP per Capita)": 0.82819,
                  "Family": 1.3006,
                  "Freedom": 0.43626,
                  "Generosity": 0.3323,
                  "Happiness Rank": 100,
                  "Happiness Score": 4.874,
                  "Health (Life Expectancy)": 0.60268,
                  "Region": "Eastern Asia",
                  "Standard Error": 0.03313,
                  "Trust (Government Corruption)": 0.02666,
                  "index": 99
                },
                {
                  "Country": "Swaziland",
                  "Dystopia Residual": 2.48676,
                  "Economy (GDP per Capita)": 0.71206,
                  "Family": 1.07284,
                  "Freedom": 0.30658,
                  "Generosity": 0.18259,
                  "Happiness Rank": 101,
                  "Happiness Score": 4.867,
                  "Health (Life Expectancy)": 0.07566,
                  "Region": "Sub-Saharan Africa",
                  "Standard Error": 0.08742,
                  "Trust (Government Corruption)": 0.0306,
                  "index": 100
                },
                {
                  "Country": "Greece",
                  "Dystopia Residual": 1.80101,
                  "Economy (GDP per Capita)": 1.15406,
                  "Family": 0.92933,
                  "Freedom": 0.07699,
                  "Generosity": 0,
                  "Happiness Rank": 102,
                  "Happiness Score": 4.857,
                  "Health (Life Expectancy)": 0.88213,
                  "Region": "Western Europe",
                  "Standard Error": 0.05062,
                  "Trust (Government Corruption)": 0.01397,
                  "index": 101
                },
                {
                  "Country": "Lebanon",
                  "Dystopia Residual": 1.57059,
                  "Economy (GDP per Capita)": 1.02564,
                  "Family": 0.80001,
                  "Freedom": 0.33916,
                  "Generosity": 0.21854,
                  "Happiness Rank": 103,
                  "Happiness Score": 4.839,
                  "Health (Life Expectancy)": 0.83947,
                  "Region": "Middle East and Northern Africa",
                  "Standard Error": 0.04337,
                  "Trust (Government Corruption)": 0.04582,
                  "index": 102
                },
                {
                  "Country": "Hungary",
                  "Dystopia Residual": 1.24074,
                  "Economy (GDP per Capita)": 1.12094,
                  "Family": 1.20215,
                  "Freedom": 0.32112,
                  "Generosity": 0.128,
                  "Happiness Rank": 104,
                  "Happiness Score": 4.8,
                  "Health (Life Expectancy)": 0.75905,
                  "Region": "Central and Eastern Europe",
                  "Standard Error": 0.06107,
                  "Trust (Government Corruption)": 0.02758,
                  "index": 103
                },
                {
                  "Country": "Honduras",
                  "Dystopia Residual": 1.84408,
                  "Economy (GDP per Capita)": 0.59532,
                  "Family": 0.95348,
                  "Freedom": 0.40148,
                  "Generosity": 0.23027,
                  "Happiness Rank": 105,
                  "Happiness Score": 4.788,
                  "Health (Life Expectancy)": 0.6951,
                  "Region": "Latin America and Caribbean",
                  "Standard Error": 0.05648,
                  "Trust (Government Corruption)": 0.06825,
                  "index": 104
                },
                {
                  "Country": "Tajikistan",
                  "Dystopia Residual": 2.11399,
                  "Economy (GDP per Capita)": 0.39047,
                  "Family": 0.85563,
                  "Freedom": 0.47216,
                  "Generosity": 0.22974,
                  "Happiness Rank": 106,
                  "Happiness Score": 4.786,
                  "Health (Life Expectancy)": 0.57379,
                  "Region": "Central and Eastern Europe",
                  "Standard Error": 0.03198,
                  "Trust (Government Corruption)": 0.15072,
                  "index": 105
                },
                {
                  "Country": "Tunisia",
                  "Dystopia Residual": 2.12466,
                  "Economy (GDP per Capita)": 0.88113,
                  "Family": 0.60429,
                  "Freedom": 0.26268,
                  "Generosity": 0.06431,
                  "Happiness Rank": 107,
                  "Happiness Score": 4.739,
                  "Health (Life Expectancy)": 0.73793,
                  "Region": "Middle East and Northern Africa",
                  "Standard Error": 0.03589,
                  "Trust (Government Corruption)": 0.06358,
                  "index": 106
                },
                {
                  "Country": "Palestinian Territories",
                  "Dystopia Residual": 2.04384,
                  "Economy (GDP per Capita)": 0.59867,
                  "Family": 0.92558,
                  "Freedom": 0.24499,
                  "Generosity": 0.11251,
                  "Happiness Rank": 108,
                  "Happiness Score": 4.715,
                  "Health (Life Expectancy)": 0.66015,
                  "Region": "Middle East and Northern Africa",
                  "Standard Error": 0.04394,
                  "Trust (Government Corruption)": 0.12905,
                  "index": 107
                },
                {
                  "Country": "Bangladesh",
                  "Dystopia Residual": 2.51767,
                  "Economy (GDP per Capita)": 0.39753,
                  "Family": 0.43106,
                  "Freedom": 0.4082,
                  "Generosity": 0.21222,
                  "Happiness Rank": 109,
                  "Happiness Score": 4.694,
                  "Health (Life Expectancy)": 0.60164,
                  "Region": "Southern Asia",
                  "Standard Error": 0.03077,
                  "Trust (Government Corruption)": 0.12569,
                  "index": 108
                },
                {
                  "Country": "Iran",
                  "Dystopia Residual": 1.6944,
                  "Economy (GDP per Capita)": 1.0088,
                  "Family": 0.54447,
                  "Freedom": 0.30033,
                  "Generosity": 0.38086,
                  "Happiness Rank": 110,
                  "Happiness Score": 4.686,
                  "Health (Life Expectancy)": 0.69805,
                  "Region": "Middle East and Northern Africa",
                  "Standard Error": 0.04449,
                  "Trust (Government Corruption)": 0.05863,
                  "index": 109
                },
                {
                  "Country": "Ukraine",
                  "Dystopia Residual": 1.5714,
                  "Economy (GDP per Capita)": 0.79907,
                  "Family": 1.20278,
                  "Freedom": 0.25123,
                  "Generosity": 0.15275,
                  "Happiness Rank": 111,
                  "Happiness Score": 4.681,
                  "Health (Life Expectancy)": 0.6739,
                  "Region": "Central and Eastern Europe",
                  "Standard Error": 0.04412,
                  "Trust (Government Corruption)": 0.02961,
                  "index": 110
                },
                {
                  "Country": "Iraq",
                  "Dystopia Residual": 1.95335,
                  "Economy (GDP per Capita)": 0.98549,
                  "Family": 0.81889,
                  "Freedom": 0,
                  "Generosity": 0.17922,
                  "Happiness Rank": 112,
                  "Happiness Score": 4.677,
                  "Health (Life Expectancy)": 0.60237,
                  "Region": "Middle East and Northern Africa",
                  "Standard Error": 0.05232,
                  "Trust (Government Corruption)": 0.13788,
                  "index": 111
                },
                {
                  "Country": "South Africa",
                  "Dystopia Residual": 1.71956,
                  "Economy (GDP per Capita)": 0.92049,
                  "Family": 1.18468,
                  "Freedom": 0.33207,
                  "Generosity": 0.11973,
                  "Happiness Rank": 113,
                  "Happiness Score": 4.642,
                  "Health (Life Expectancy)": 0.27688,
                  "Region": "Sub-Saharan Africa",
                  "Standard Error": 0.04585,
                  "Trust (Government Corruption)": 0.08884,
                  "index": 112
                },
                {
                  "Country": "Ghana",
                  "Dystopia Residual": 2.30919,
                  "Economy (GDP per Capita)": 0.54558,
                  "Family": 0.67954,
                  "Freedom": 0.42342,
                  "Generosity": 0.23087,
                  "Happiness Rank": 114,
                  "Happiness Score": 4.633,
                  "Health (Life Expectancy)": 0.40132,
                  "Region": "Sub-Saharan Africa",
                  "Standard Error": 0.04742,
                  "Trust (Government Corruption)": 0.04355,
                  "index": 113
                },
                {
                  "Country": "Zimbabwe",
                  "Dystopia Residual": 2.44191,
                  "Economy (GDP per Capita)": 0.271,
                  "Family": 1.03276,
                  "Freedom": 0.25861,
                  "Generosity": 0.18987,
                  "Happiness Rank": 115,
                  "Happiness Score": 4.61,
                  "Health (Life Expectancy)": 0.33475,
                  "Region": "Sub-Saharan Africa",
                  "Standard Error": 0.0429,
                  "Trust (Government Corruption)": 0.08079,
                  "index": 114
                },
                {
                  "Country": "Liberia",
                  "Dystopia Residual": 2.77729,
                  "Economy (GDP per Capita)": 0.0712,
                  "Family": 0.78968,
                  "Freedom": 0.28531,
                  "Generosity": 0.24362,
                  "Happiness Rank": 116,
                  "Happiness Score": 4.571,
                  "Health (Life Expectancy)": 0.34201,
                  "Region": "Sub-Saharan Africa",
                  "Standard Error": 0.11068,
                  "Trust (Government Corruption)": 0.06232,
                  "index": 115
                },
                {
                  "Country": "India",
                  "Dystopia Residual": 2.27513,
                  "Economy (GDP per Capita)": 0.64499,
                  "Family": 0.38174,
                  "Freedom": 0.39786,
                  "Generosity": 0.26475,
                  "Happiness Rank": 117,
                  "Happiness Score": 4.565,
                  "Health (Life Expectancy)": 0.51529,
                  "Region": "Southern Asia",
                  "Standard Error": 0.02043,
                  "Trust (Government Corruption)": 0.08492,
                  "index": 116
                },
                {
                  "Country": "Sudan",
                  "Dystopia Residual": 2.20857,
                  "Economy (GDP per Capita)": 0.52107,
                  "Family": 1.01404,
                  "Freedom": 0.10081,
                  "Generosity": 0.19062,
                  "Happiness Rank": 118,
                  "Happiness Score": 4.55,
                  "Health (Life Expectancy)": 0.36878,
                  "Region": "Sub-Saharan Africa",
                  "Standard Error": 0.0674,
                  "Trust (Government Corruption)": 0.1466,
                  "index": 117
                },
                {
                  "Country": "Haiti",
                  "Dystopia Residual": 2.24173,
                  "Economy (GDP per Capita)": 0.26673,
                  "Family": 0.74302,
                  "Freedom": 0.24425,
                  "Generosity": 0.46187,
                  "Happiness Rank": 119,
                  "Happiness Score": 4.518,
                  "Health (Life Expectancy)": 0.38847,
                  "Region": "Latin America and Caribbean",
                  "Standard Error": 0.07331,
                  "Trust (Government Corruption)": 0.17175,
                  "index": 118
                },
                {
                  "Country": "Congo (Kinshasa)",
                  "Dystopia Residual": 2.86712,
                  "Economy (GDP per Capita)": 0,
                  "Family": 1.0012,
                  "Freedom": 0.22605,
                  "Generosity": 0.24834,
                  "Happiness Rank": 120,
                  "Happiness Score": 4.517,
                  "Health (Life Expectancy)": 0.09806,
                  "Region": "Sub-Saharan Africa",
                  "Standard Error": 0.0368,
                  "Trust (Government Corruption)": 0.07625,
                  "index": 119
                },
                {
                  "Country": "Nepal",
                  "Dystopia Residual": 1.95637,
                  "Economy (GDP per Capita)": 0.35997,
                  "Family": 0.86449,
                  "Freedom": 0.38282,
                  "Generosity": 0.32296,
                  "Happiness Rank": 121,
                  "Happiness Score": 4.514,
                  "Health (Life Expectancy)": 0.56874,
                  "Region": "Southern Asia",
                  "Standard Error": 0.03607,
                  "Trust (Government Corruption)": 0.05907,
                  "index": 120
                },
                {
                  "Country": "Ethiopia",
                  "Dystopia Residual": 2.44876,
                  "Economy (GDP per Capita)": 0.19073,
                  "Family": 0.60406,
                  "Freedom": 0.4345,
                  "Generosity": 0.24325,
                  "Happiness Rank": 122,
                  "Happiness Score": 4.512,
                  "Health (Life Expectancy)": 0.44055,
                  "Region": "Sub-Saharan Africa",
                  "Standard Error": 0.0378,
                  "Trust (Government Corruption)": 0.15048,
                  "index": 121
                },
                {
                  "Country": "Sierra Leone",
                  "Dystopia Residual": 2.51009,
                  "Economy (GDP per Capita)": 0.33024,
                  "Family": 0.95571,
                  "Freedom": 0.4084,
                  "Generosity": 0.21488,
                  "Happiness Rank": 123,
                  "Happiness Score": 4.507,
                  "Health (Life Expectancy)": 0,
                  "Region": "Sub-Saharan Africa",
                  "Standard Error": 0.07068,
                  "Trust (Government Corruption)": 0.08786,
                  "index": 122
                },
                {
                  "Country": "Mauritania",
                  "Dystopia Residual": 2.11773,
                  "Economy (GDP per Capita)": 0.45407,
                  "Family": 0.86908,
                  "Freedom": 0.24232,
                  "Generosity": 0.219,
                  "Happiness Rank": 124,
                  "Happiness Score": 4.436,
                  "Health (Life Expectancy)": 0.35874,
                  "Region": "Sub-Saharan Africa",
                  "Standard Error": 0.03947,
                  "Trust (Government Corruption)": 0.17461,
                  "index": 123
                },
                {
                  "Country": "Kenya",
                  "Dystopia Residual": 1.78555,
                  "Economy (GDP per Capita)": 0.36471,
                  "Family": 0.99876,
                  "Freedom": 0.42215,
                  "Generosity": 0.37542,
                  "Happiness Rank": 125,
                  "Happiness Score": 4.419,
                  "Health (Life Expectancy)": 0.41435,
                  "Region": "Sub-Saharan Africa",
                  "Standard Error": 0.04734,
                  "Trust (Government Corruption)": 0.05839,
                  "index": 124
                },
                {
                  "Country": "Djibouti",
                  "Dystopia Residual": 2.05125,
                  "Economy (GDP per Capita)": 0.44025,
                  "Family": 0.59207,
                  "Freedom": 0.46074,
                  "Generosity": 0.18093,
                  "Happiness Rank": 126,
                  "Happiness Score": 4.369,
                  "Health (Life Expectancy)": 0.36291,
                  "Region": "Sub-Saharan Africa",
                  "Standard Error": 0.08096,
                  "Trust (Government Corruption)": 0.28105,
                  "index": 125
                },
                {
                  "Country": "Armenia",
                  "Dystopia Residual": 1.75873,
                  "Economy (GDP per Capita)": 0.76821,
                  "Family": 0.77711,
                  "Freedom": 0.19847,
                  "Generosity": 0.07855,
                  "Happiness Rank": 127,
                  "Happiness Score": 4.35,
                  "Health (Life Expectancy)": 0.7299,
                  "Region": "Central and Eastern Europe",
                  "Standard Error": 0.04763,
                  "Trust (Government Corruption)": 0.039,
                  "index": 126
                },
                {
                  "Country": "Botswana",
                  "Dystopia Residual": 1.46181,
                  "Economy (GDP per Capita)": 0.99355,
                  "Family": 1.10464,
                  "Freedom": 0.49495,
                  "Generosity": 0.10461,
                  "Happiness Rank": 128,
                  "Happiness Score": 4.332,
                  "Health (Life Expectancy)": 0.04776,
                  "Region": "Sub-Saharan Africa",
                  "Standard Error": 0.04934,
                  "Trust (Government Corruption)": 0.12474,
                  "index": 127
                },
                {
                  "Country": "Myanmar",
                  "Dystopia Residual": 1.41805,
                  "Economy (GDP per Capita)": 0.27108,
                  "Family": 0.70905,
                  "Freedom": 0.44017,
                  "Generosity": 0.79588,
                  "Happiness Rank": 129,
                  "Happiness Score": 4.307,
                  "Health (Life Expectancy)": 0.48246,
                  "Region": "Southeastern Asia",
                  "Standard Error": 0.04351,
                  "Trust (Government Corruption)": 0.19034,
                  "index": 128
                },
                {
                  "Country": "Georgia",
                  "Dystopia Residual": 1.59541,
                  "Economy (GDP per Capita)": 0.7419,
                  "Family": 0.38562,
                  "Freedom": 0.40577,
                  "Generosity": 0.05547,
                  "Happiness Rank": 130,
                  "Happiness Score": 4.297,
                  "Health (Life Expectancy)": 0.72926,
                  "Region": "Central and Eastern Europe",
                  "Standard Error": 0.04221,
                  "Trust (Government Corruption)": 0.38331,
                  "index": 129
                },
                {
                  "Country": "Malawi",
                  "Dystopia Residual": 2.80791,
                  "Economy (GDP per Capita)": 0.01604,
                  "Family": 0.41134,
                  "Freedom": 0.43054,
                  "Generosity": 0.33128,
                  "Happiness Rank": 131,
                  "Happiness Score": 4.292,
                  "Health (Life Expectancy)": 0.22562,
                  "Region": "Sub-Saharan Africa",
                  "Standard Error": 0.0613,
                  "Trust (Government Corruption)": 0.06977,
                  "index": 130
                },
                {
                  "Country": "Sri Lanka",
                  "Dystopia Residual": 0.67108,
                  "Economy (GDP per Capita)": 0.83524,
                  "Family": 1.01905,
                  "Freedom": 0.53726,
                  "Generosity": 0.40828,
                  "Happiness Rank": 132,
                  "Happiness Score": 4.271,
                  "Health (Life Expectancy)": 0.70806,
                  "Region": "Southern Asia",
                  "Standard Error": 0.03751,
                  "Trust (Government Corruption)": 0.09179,
                  "index": 131
                },
                {
                  "Country": "Cameroon",
                  "Dystopia Residual": 1.95071,
                  "Economy (GDP per Capita)": 0.4225,
                  "Family": 0.88767,
                  "Freedom": 0.49309,
                  "Generosity": 0.20618,
                  "Happiness Rank": 133,
                  "Happiness Score": 4.252,
                  "Health (Life Expectancy)": 0.23402,
                  "Region": "Sub-Saharan Africa",
                  "Standard Error": 0.04678,
                  "Trust (Government Corruption)": 0.05786,
                  "index": 132
                },
                {
                  "Country": "Bulgaria",
                  "Dystopia Residual": 0.89991,
                  "Economy (GDP per Capita)": 1.01216,
                  "Family": 1.10614,
                  "Freedom": 0.30587,
                  "Generosity": 0.11921,
                  "Happiness Rank": 134,
                  "Happiness Score": 4.218,
                  "Health (Life Expectancy)": 0.76649,
                  "Region": "Central and Eastern Europe",
                  "Standard Error": 0.04828,
                  "Trust (Government Corruption)": 0.00872,
                  "index": 133
                },
                {
                  "Country": "Egypt",
                  "Dystopia Residual": 1.59927,
                  "Economy (GDP per Capita)": 0.8818,
                  "Family": 0.747,
                  "Freedom": 0.17288,
                  "Generosity": 0.11291,
                  "Happiness Rank": 135,
                  "Happiness Score": 4.194,
                  "Health (Life Expectancy)": 0.61712,
                  "Region": "Middle East and Northern Africa",
                  "Standard Error": 0.0326,
                  "Trust (Government Corruption)": 0.06324,
                  "index": 134
                },
                {
                  "Country": "Yemen",
                  "Dystopia Residual": 1.92313,
                  "Economy (GDP per Capita)": 0.54649,
                  "Family": 0.68093,
                  "Freedom": 0.35571,
                  "Generosity": 0.09131,
                  "Happiness Rank": 136,
                  "Happiness Score": 4.077,
                  "Health (Life Expectancy)": 0.40064,
                  "Region": "Middle East and Northern Africa",
                  "Standard Error": 0.04367,
                  "Trust (Government Corruption)": 0.07854,
                  "index": 135
                },
                {
                  "Country": "Angola",
                  "Dystopia Residual": 1.94939,
                  "Economy (GDP per Capita)": 0.75778,
                  "Family": 0.8604,
                  "Freedom": 0.10384,
                  "Generosity": 0.12344,
                  "Happiness Rank": 137,
                  "Happiness Score": 4.033,
                  "Health (Life Expectancy)": 0.16683,
                  "Region": "Sub-Saharan Africa",
                  "Standard Error": 0.04758,
                  "Trust (Government Corruption)": 0.07122,
                  "index": 136
                },
                {
                  "Country": "Mali",
                  "Dystopia Residual": 1.79293,
                  "Economy (GDP per Capita)": 0.26074,
                  "Family": 1.03526,
                  "Freedom": 0.38857,
                  "Generosity": 0.18798,
                  "Happiness Rank": 138,
                  "Happiness Score": 3.995,
                  "Health (Life Expectancy)": 0.20583,
                  "Region": "Sub-Saharan Africa",
                  "Standard Error": 0.05602,
                  "Trust (Government Corruption)": 0.12352,
                  "index": 137
                },
                {
                  "Country": "Congo (Brazzaville)",
                  "Dystopia Residual": 1.68135,
                  "Economy (GDP per Capita)": 0.67866,
                  "Family": 0.6629,
                  "Freedom": 0.41466,
                  "Generosity": 0.12388,
                  "Happiness Rank": 139,
                  "Happiness Score": 3.989,
                  "Health (Life Expectancy)": 0.31051,
                  "Region": "Sub-Saharan Africa",
                  "Standard Error": 0.06682,
                  "Trust (Government Corruption)": 0.11686,
                  "index": 138
                },
                {
                  "Country": "Comoros",
                  "Dystopia Residual": 1.95812,
                  "Economy (GDP per Capita)": 0.23906,
                  "Family": 0.79273,
                  "Freedom": 0.22917,
                  "Generosity": 0.17441,
                  "Happiness Rank": 140,
                  "Happiness Score": 3.956,
                  "Health (Life Expectancy)": 0.36315,
                  "Region": "Sub-Saharan Africa",
                  "Standard Error": 0.04797,
                  "Trust (Government Corruption)": 0.199,
                  "index": 139
                },
                {
                  "Country": "Uganda",
                  "Dystopia Residual": 1.42766,
                  "Economy (GDP per Capita)": 0.21102,
                  "Family": 1.13299,
                  "Freedom": 0.45727,
                  "Generosity": 0.29066,
                  "Happiness Rank": 141,
                  "Happiness Score": 3.931,
                  "Health (Life Expectancy)": 0.33861,
                  "Region": "Sub-Saharan Africa",
                  "Standard Error": 0.04317,
                  "Trust (Government Corruption)": 0.07267,
                  "index": 140
                },
                {
                  "Country": "Senegal",
                  "Dystopia Residual": 1.44395,
                  "Economy (GDP per Capita)": 0.36498,
                  "Family": 0.97619,
                  "Freedom": 0.36772,
                  "Generosity": 0.20843,
                  "Happiness Rank": 142,
                  "Happiness Score": 3.904,
                  "Health (Life Expectancy)": 0.4354,
                  "Region": "Sub-Saharan Africa",
                  "Standard Error": 0.03608,
                  "Trust (Government Corruption)": 0.10713,
                  "index": 141
                },
                {
                  "Country": "Gabon",
                  "Dystopia Residual": 0.99895,
                  "Economy (GDP per Capita)": 1.06024,
                  "Family": 0.90528,
                  "Freedom": 0.31914,
                  "Generosity": 0.06822,
                  "Happiness Rank": 143,
                  "Happiness Score": 3.896,
                  "Health (Life Expectancy)": 0.43372,
                  "Region": "Sub-Saharan Africa",
                  "Standard Error": 0.04547,
                  "Trust (Government Corruption)": 0.11091,
                  "index": 142
                },
                {
                  "Country": "Niger",
                  "Dystopia Residual": 1.87877,
                  "Economy (GDP per Capita)": 0.0694,
                  "Family": 0.77265,
                  "Freedom": 0.47692,
                  "Generosity": 0.19387,
                  "Happiness Rank": 144,
                  "Happiness Score": 3.845,
                  "Health (Life Expectancy)": 0.29707,
                  "Region": "Sub-Saharan Africa",
                  "Standard Error": 0.03602,
                  "Trust (Government Corruption)": 0.15639,
                  "index": 143
                },
                {
                  "Country": "Cambodia",
                  "Dystopia Residual": 0.98195,
                  "Economy (GDP per Capita)": 0.46038,
                  "Family": 0.62736,
                  "Freedom": 0.66246,
                  "Generosity": 0.40359,
                  "Happiness Rank": 145,
                  "Happiness Score": 3.819,
                  "Health (Life Expectancy)": 0.61114,
                  "Region": "Southeastern Asia",
                  "Standard Error": 0.05069,
                  "Trust (Government Corruption)": 0.07247,
                  "index": 144
                },
                {
                  "Country": "Tanzania",
                  "Dystopia Residual": 1.38079,
                  "Economy (GDP per Capita)": 0.2852,
                  "Family": 1.00268,
                  "Freedom": 0.32878,
                  "Generosity": 0.34377,
                  "Happiness Rank": 146,
                  "Happiness Score": 3.781,
                  "Health (Life Expectancy)": 0.38215,
                  "Region": "Sub-Saharan Africa",
                  "Standard Error": 0.05061,
                  "Trust (Government Corruption)": 0.05747,
                  "index": 145
                },
                {
                  "Country": "Madagascar",
                  "Dystopia Residual": 1.851,
                  "Economy (GDP per Capita)": 0.20824,
                  "Family": 0.66801,
                  "Freedom": 0.19184,
                  "Generosity": 0.21333,
                  "Happiness Rank": 147,
                  "Happiness Score": 3.681,
                  "Health (Life Expectancy)": 0.46721,
                  "Region": "Sub-Saharan Africa",
                  "Standard Error": 0.03633,
                  "Trust (Government Corruption)": 0.08124,
                  "index": 146
                },
                {
                  "Country": "Central African Republic",
                  "Dystopia Residual": 2.7223,
                  "Economy (GDP per Capita)": 0.0785,
                  "Family": 0,
                  "Freedom": 0.48879,
                  "Generosity": 0.23835,
                  "Happiness Rank": 148,
                  "Happiness Score": 3.678,
                  "Health (Life Expectancy)": 0.06699,
                  "Region": "Sub-Saharan Africa",
                  "Standard Error": 0.06112,
                  "Trust (Government Corruption)": 0.08289,
                  "index": 147
                },
                {
                  "Country": "Chad",
                  "Dystopia Residual": 1.94296,
                  "Economy (GDP per Capita)": 0.34193,
                  "Family": 0.76062,
                  "Freedom": 0.23501,
                  "Generosity": 0.18386,
                  "Happiness Rank": 149,
                  "Happiness Score": 3.667,
                  "Health (Life Expectancy)": 0.1501,
                  "Region": "Sub-Saharan Africa",
                  "Standard Error": 0.0383,
                  "Trust (Government Corruption)": 0.05269,
                  "index": 148
                },
                {
                  "Country": "Guinea",
                  "Dystopia Residual": 1.99172,
                  "Economy (GDP per Capita)": 0.17417,
                  "Family": 0.46475,
                  "Freedom": 0.37725,
                  "Generosity": 0.28657,
                  "Happiness Rank": 150,
                  "Happiness Score": 3.656,
                  "Health (Life Expectancy)": 0.24009,
                  "Region": "Sub-Saharan Africa",
                  "Standard Error": 0.0359,
                  "Trust (Government Corruption)": 0.12139,
                  "index": 149
                },
                {
                  "Country": "Ivory Coast",
                  "Dystopia Residual": 1.41723,
                  "Economy (GDP per Capita)": 0.46534,
                  "Family": 0.77115,
                  "Freedom": 0.46866,
                  "Generosity": 0.20165,
                  "Happiness Rank": 151,
                  "Happiness Score": 3.655,
                  "Health (Life Expectancy)": 0.15185,
                  "Region": "Sub-Saharan Africa",
                  "Standard Error": 0.05141,
                  "Trust (Government Corruption)": 0.17922,
                  "index": 150
                },
                {
                  "Country": "Burkina Faso",
                  "Dystopia Residual": 1.46494,
                  "Economy (GDP per Capita)": 0.25812,
                  "Family": 0.85188,
                  "Freedom": 0.39493,
                  "Generosity": 0.21747,
                  "Happiness Rank": 152,
                  "Happiness Score": 3.587,
                  "Health (Life Expectancy)": 0.27125,
                  "Region": "Sub-Saharan Africa",
                  "Standard Error": 0.04324,
                  "Trust (Government Corruption)": 0.12832,
                  "index": 151
                },
                {
                  "Country": "Afghanistan",
                  "Dystopia Residual": 1.9521,
                  "Economy (GDP per Capita)": 0.31982,
                  "Family": 0.30285,
                  "Freedom": 0.23414,
                  "Generosity": 0.3651,
                  "Happiness Rank": 153,
                  "Happiness Score": 3.575,
                  "Health (Life Expectancy)": 0.30335,
                  "Region": "Southern Asia",
                  "Standard Error": 0.03084,
                  "Trust (Government Corruption)": 0.09719,
                  "index": 152
                },
                {
                  "Country": "Rwanda",
                  "Dystopia Residual": 0.67042,
                  "Economy (GDP per Capita)": 0.22208,
                  "Family": 0.7737,
                  "Freedom": 0.59201,
                  "Generosity": 0.22628,
                  "Happiness Rank": 154,
                  "Happiness Score": 3.465,
                  "Health (Life Expectancy)": 0.42864,
                  "Region": "Sub-Saharan Africa",
                  "Standard Error": 0.03464,
                  "Trust (Government Corruption)": 0.55191,
                  "index": 153
                },
                {
                  "Country": "Benin",
                  "Dystopia Residual": 1.63328,
                  "Economy (GDP per Capita)": 0.28665,
                  "Family": 0.35386,
                  "Freedom": 0.4845,
                  "Generosity": 0.1826,
                  "Happiness Rank": 155,
                  "Happiness Score": 3.34,
                  "Health (Life Expectancy)": 0.3191,
                  "Region": "Sub-Saharan Africa",
                  "Standard Error": 0.03656,
                  "Trust (Government Corruption)": 0.0801,
                  "index": 154
                },
                {
                  "Country": "Syria",
                  "Dystopia Residual": 0.32858,
                  "Economy (GDP per Capita)": 0.6632,
                  "Family": 0.47489,
                  "Freedom": 0.15684,
                  "Generosity": 0.47179,
                  "Happiness Rank": 156,
                  "Happiness Score": 3.006,
                  "Health (Life Expectancy)": 0.72193,
                  "Region": "Middle East and Northern Africa",
                  "Standard Error": 0.05015,
                  "Trust (Government Corruption)": 0.18906,
                  "index": 155
                },
                {
                  "Country": "Burundi",
                  "Dystopia Residual": 1.83302,
                  "Economy (GDP per Capita)": 0.0153,
                  "Family": 0.41587,
                  "Freedom": 0.1185,
                  "Generosity": 0.19727,
                  "Happiness Rank": 157,
                  "Happiness Score": 2.905,
                  "Health (Life Expectancy)": 0.22396,
                  "Region": "Sub-Saharan Africa",
                  "Standard Error": 0.08658,
                  "Trust (Government Corruption)": 0.10062,
                  "index": 156
                },
                {
                  "Country": "Togo",
                  "Dystopia Residual": 1.56726,
                  "Economy (GDP per Capita)": 0.20868,
                  "Family": 0.13995,
                  "Freedom": 0.36453,
                  "Generosity": 0.16681,
                  "Happiness Rank": 158,
                  "Happiness Score": 2.839,
                  "Health (Life Expectancy)": 0.28443,
                  "Region": "Sub-Saharan Africa",
                  "Standard Error": 0.06727,
                  "Trust (Government Corruption)": 0.10731,
                  "index": 157
                }
              ],
              "schema": {
                "fields": [
                  {
                    "name": "index",
                    "type": "integer"
                  },
                  {
                    "name": "Country",
                    "type": "string"
                  },
                  {
                    "name": "Region",
                    "type": "string"
                  },
                  {
                    "name": "Happiness Rank",
                    "type": "integer"
                  },
                  {
                    "name": "Happiness Score",
                    "type": "number"
                  },
                  {
                    "name": "Standard Error",
                    "type": "number"
                  },
                  {
                    "name": "Economy (GDP per Capita)",
                    "type": "number"
                  },
                  {
                    "name": "Family",
                    "type": "number"
                  },
                  {
                    "name": "Health (Life Expectancy)",
                    "type": "number"
                  },
                  {
                    "name": "Freedom",
                    "type": "number"
                  },
                  {
                    "name": "Trust (Government Corruption)",
                    "type": "number"
                  },
                  {
                    "name": "Generosity",
                    "type": "number"
                  },
                  {
                    "name": "Dystopia Residual",
                    "type": "number"
                  }
                ],
                "pandas_version": "0.20.0",
                "primaryKey": ["index"]
              }
            }
          },
          "execution_count": 2,
          "metadata": {},
          "output_type": "execute_result"
        }
      ],
      "source": ["# Sample text for mimetype application/vnd.dataresource+json"]
    },
    {
      "cell_type": "code",
      "execution_count": 2,
      "metadata": {},
      "outputs": [
        {
          "data": {
            "application/vdom.v1+json": {
              "attributes": {
                "style": {
                  "textAlign": "center"
                }
              },
              "children": "Sample text for mimetype application/vdom.v1+json",
              "tagName": "marquee"
            }
          },
          "execution_count": 2,
          "metadata": {},
          "output_type": "execute_result"
        }
      ],
      "source": ["# Sample text for mimetype application/vdom.v1+json"]
    },
    {
      "cell_type": "code",
      "execution_count": 2,
      "metadata": {},
      "outputs": [
        {
          "data": {
            "image/svg+xml": ["Sample text for mimetype image/svg+xml"]
          },
          "execution_count": 2,
          "metadata": {},
          "output_type": "execute_result"
        }
      ],
      "source": ["# Sample text for mimetype image/svg+xml"]
    },
    {
      "cell_type": "code",
      "execution_count": 2,
      "metadata": {},
      "outputs": [
        {
          "data": {
            "image/gif": ["Sample text for mimetype image/gif"]
          },
          "execution_count": 2,
          "metadata": {},
          "output_type": "execute_result"
        }
      ],
      "source": ["# Sample text for mimetype image/gif"]
    },
    {
      "cell_type": "code",
      "execution_count": 2,
      "metadata": {},
      "outputs": [
        {
          "data": {
            "image/png": ["Sample text for mimetype image/png"]
          },
          "execution_count": 2,
          "metadata": {},
          "output_type": "execute_result"
        }
      ],
      "source": ["# Sample text for mimetype image/png"]
    },
    {
      "cell_type": "code",
      "execution_count": 2,
      "metadata": {},
      "outputs": [
        {
          "data": {
            "image/jpeg": ["Sample text for mimetype image/jpeg"]
          },
          "execution_count": 2,
          "metadata": {},
          "output_type": "execute_result"
        }
      ],
      "source": ["# Sample text for mimetype image/jpeg"]
    },
    {
      "cell_type": "markdown",
      "metadata": {},
      "source": ["# Plotly Transform\n"]
    },
    {
      "cell_type": "code",
      "execution_count": null,
      "metadata": {
        "collapsed": false
      },
      "outputs": [],
      "source": [
        "import IPython\n",
        "import plotly\n",
        "import json\n",
        "\n",
        "def plotize(data, layout=None):\n",
        "  \"\"\"Plot with Plotly.js using the Plotly JSON Chart Schema\n",
        "  \n",
        "  http://help.plot.ly/json-chart-schema/\n",
        "  \"\"\"\n",
        "  if layout is None:\n",
        "    layout = {}\n",
        "  \n",
        "  redata = json.loads(json.dumps(data, cls=plotly.utils.PlotlyJSONEncoder))\n",
        "  relayout = json.loads(json.dumps(layout, cls=plotly.utils.PlotlyJSONEncoder))\n",
        "  \n",
        "  bundle = {}\n",
        "  bundle['application/vnd.plotly.v1+json'] = {\n",
        "  \t'data': redata,\n",
        "    'layout': relayout,\n",
        "  }\n",
        "  \n",
        "  IPython.display.display(bundle, raw=True)"
      ]
    },
    {
      "cell_type": "code",
      "execution_count": null,
      "metadata": {
        "collapsed": false
      },
      "outputs": [],
      "source": [
        "data = [\n",
        "  {'x': [1999, 2000, 2001, 2002], 'y': [10, 15, 13, 17], 'type': 'scatter'},\n",
        "  {'x': [1999, 2000, 2001, 2002], 'y': [16, 5, 11, 9], 'type': 'scatter'}\n",
        "]\n",
        "\n",
        "layout = {\n",
        "  'title': 'Sales Growth',\n",
        "  'xaxis': { 'title': 'Year', 'showgrid': False, 'zeroline': False },\n",
        "  'yaxis': { 'title': 'Percent', 'showline': False }\n",
        "}"
      ]
    },
    {
      "cell_type": "code",
      "execution_count": null,
      "metadata": {
        "collapsed": false
      },
      "outputs": [
        {
          "data": {
            "application/vnd.plotly.v1+json": {
              "data": [
                {
                  "x": [1999, 2000, 2001, 2002],
                  "y": [10, 15, 13, 17],
                  "type": "scatter"
                },
                {
                  "x": [1999, 2000, 2001, 2002],
                  "y": [16, 5, 11, 9],
                  "type": "scatter"
                }
              ],
              "layout": {
                "title": "Sales Growth",
                "xaxis": {
                  "title": "Year",
                  "showgrid": false,
                  "zeroline": false
                },
                "yaxis": { "title": "Percent", "showline": false }
              }
            }
          },
          "execution_count": 2,
          "metadata": {},
          "output_type": "execute_result"
        }
      ],
      "source": ["plotize(data, layout)"]
    },
    {
      "cell_type": "markdown",
      "metadata": {
        "collapsed": false,
        "inputHidden": false,
        "outputHidden": false
      },
      "source": [
        "# Declarative layouts via VDOM Transform\n",
        "\n",
        "This notebook demonstrates how to use an _experimental_ display type called `application/vdom.v1+json` or `vdom` for short.\n",
        "\n",
        "Instead of sending HTML, you send a declarative JSON format that lists the nodes for HTML like so:\n",
        "\n",
        "```js\n",
        "{\n",
        "  'tagName': 'h1',\n",
        "  'attributes': {\n",
        "    'style': {\n",
        "        'color': 'DeepPink'\n",
        "    },\n",
        "  },\n",
        "  'children': []\n",
        "}\n",
        "```\n",
        "\n",
        "This is a bit low level, so you'll have to bear with us. The goal for an end user would be to be able to write something like this in Python:\n",
        "\n",
        "```python\n",
        "layout = (\n",
        "    Div([\n",
        "        H1('Hello there!'),\n",
        "        P('''\n",
        "            Living the dream\n",
        "        '''),\n",
        "    ])\n",
        ")\n",
        "```\n",
        "\n",
        "(which is exactly the API that [dash](https://plot.ly/dash) provides)\n",
        "\n",
        "We'll start out a little raw and show off some of the chief benefits as we go.\n"
      ]
    },
    {
      "cell_type": "code",
      "execution_count": 2,
      "metadata": {
        "collapsed": false,
        "inputHidden": false,
        "outputHidden": false
      },
      "outputs": [
        {
          "data": {
            "application/vdom.v1+json": {
              "attributes": {},
              "children": "Welcome to VDOM",
              "tagName": "h1"
            }
          },
          "metadata": {},
          "output_type": "display_data"
        }
      ],
      "source": [
        "display(\n",
        "    {\n",
        "        'application/vdom.v1+json': {\n",
        "            'tagName': 'h1',\n",
        "            'attributes': {\n",
        "            },\n",
        "            'children': 'Welcome to VDOM',\n",
        "        }\n",
        "    },\n",
        "    raw=True\n",
        ")"
      ]
    },
    {
      "cell_type": "markdown",
      "metadata": {},
      "source": [
        "We'll wrap that boilerplate up in a `VDOM` class, similar to the `IPython.display.HTML` class:"
      ]
    },
    {
      "cell_type": "code",
      "execution_count": 2,
      "metadata": {
        "collapsed": false,
        "inputHidden": false,
        "outputHidden": false
      },
      "outputs": [
        {
          "data": {
            "application/vdom.v1+json": {
              "attributes": {
                "style": {
                  "textAlign": "center"
                }
              },
              "children": "Now you're cooking with VDOM",
              "tagName": "h1"
            },
            "text/plain": ["<__main__.VDOM at 0x108a58198>"]
          },
          "execution_count": 2,
          "metadata": {},
          "output_type": "execute_result"
        }
      ],
      "source": [
        "class VDOM():\n",
        "    def __init__(self, obj):\n",
        "        self.obj = obj\n",
        "        \n",
        "    def _repr_mimebundle_(self, include, exclude, **kwargs):\n",
        "        return {\n",
        "                'application/vdom.v1+json': self.obj\n",
        "        }\n",
        "\n",
        "VDOM({\n",
        "    'tagName': 'h1',\n",
        "    'attributes': {\n",
        "        'style': {\n",
        "            'textAlign': 'center'\n",
        "        }\n",
        "    },\n",
        "    'children': \"Now you're cooking with VDOM\",\n",
        "})"
      ]
    },
    {
      "cell_type": "markdown",
      "metadata": {},
      "source": [
        "If we really want, we could also create individual HTML element helpers"
      ]
    },
    {
      "cell_type": "code",
      "execution_count": 3,
      "metadata": {
        "collapsed": false,
        "inputHidden": false,
        "outputHidden": false
      },
      "outputs": [],
      "source": [
        "def h1(children=None, **kwargs):\n",
        "    return {\n",
        "        'tagName': 'h1',\n",
        "        'attributes': {\n",
        "\n",
        "            # Fold everything else in as props\n",
        "            # Note that we'd _really_ want to do some validation here\n",
        "            **kwargs\n",
        "        },\n",
        "        'children': children,\n",
        "\n    }"
      ]
    },
    {
      "cell_type": "code",
      "execution_count": 4,
      "metadata": {
        "collapsed": false,
        "inputHidden": false,
        "outputHidden": false
      },
      "outputs": [
        {
          "data": {
            "text/plain": [
              "{'attributes': {'style': {'fontSize': '5em'}},\n",
              " 'children': 'hey',\n",
              " 'tagName': 'h1'}"
            ]
          },
          "execution_count": 4,
          "metadata": {},
          "output_type": "execute_result"
        }
      ],
      "source": ["h1('hey', style={ 'fontSize': '5em'})"]
    },
    {
      "cell_type": "code",
      "execution_count": 5,
      "metadata": {
        "collapsed": false,
        "inputHidden": false,
        "outputHidden": false
      },
      "outputs": [
        {
          "data": {
            "application/vdom.v1+json": {
              "attributes": {
                "style": {
                  "color": "DeepPink",
                  "fontSize": "5em"
                }
              },
              "children": "This is great",
              "tagName": "h1"
            },
            "text/plain": ["<__main__.VDOM at 0x108a73128>"]
          },
          "execution_count": 5,
          "metadata": {},
          "output_type": "execute_result"
        }
      ],
      "source": [
        "VDOM(h1('This is great',\n",
        "        style={ 'fontSize': '5em', 'color': 'DeepPink' }))"
      ]
    },
    {
      "cell_type": "markdown",
      "metadata": {},
      "source": [
        "# Why not just use HTML?\n",
        "\nWhen we send updates using `display(obj, display_id='x', update=True)`, the HTML gets wiped out losing any state in the frontend. This especially matters with elements like `<details>`:"
      ]
    },
    {
      "cell_type": "code",
      "execution_count": 6,
      "metadata": {
        "collapsed": false,
        "inputHidden": false,
        "outputHidden": false
      },
      "outputs": [
        {
          "data": {
            "text/html": [
              "<details>\n",
              "    <summary>Click me to expand</summary>\n",
              "    <p>I am some hidden text</p>\n",
              "</details>"
            ],
            "text/plain": ["<IPython.core.display.HTML object>"]
          },
          "metadata": {},
          "output_type": "display_data"
        }
      ],
      "source": [
        "%%html\n",
        "<details>\n",
        "    <summary>Click me to expand</summary>\n",
        "    <p>I am some hidden text</p>\n",
        "</details>"
      ]
    },
    {
      "cell_type": "markdown",
      "metadata": {},
      "source": [
        "An easier element to demonstrate in a tutorial notebook is the infamous (and deprecated) `<marquee>` tag. Fun fact: It's GPU accelerated on Chrome."
      ]
    },
    {
      "cell_type": "code",
      "execution_count": 7,
      "metadata": {
        "collapsed": false,
        "inputHidden": false,
        "outputHidden": false
      },
      "outputs": [
        {
          "data": {
            "text/html": ["<marquee>Here I am scrolling</marquee>"],
            "text/plain": ["<IPython.core.display.HTML object>"]
          },
          "metadata": {},
          "output_type": "display_data"
        }
      ],
      "source": [
        "from IPython.display import HTML\n",
        "import time\n",
        "\n",
        "handle = display(HTML(\"\"\"<marquee>Here I am scrolling</marquee>\"\"\"), display_id='html_marquee')\n",
        "time.sleep(2)\n",
        "handle.display(HTML(\"\"\"<marquee>RESET MUAHAHAHAHAHAH</marquee>\"\"\"), update=True)\n",
        "time.sleep(2)\n",
        "handle.display(HTML(\"\"\"<marquee>😔</marquee>\"\"\"), update=True)"
      ]
    },
    {
      "cell_type": "markdown",
      "metadata": {},
      "source": [
        "Whereas, if you do it with the VDOM, you get nice clean updates that keep state.\n",
        "\n"
      ]
    },
    {
      "cell_type": "code",
      "execution_count": 8,
      "metadata": {
        "collapsed": false,
        "inputHidden": false,
        "outputHidden": false
      },
      "outputs": [
        {
          "data": {
            "application/vdom.v1+json": {
              "attributes": {},
              "children": "❤️ VDOM ❤️",
              "tagName": "h1"
            },
            "text/plain": ["<__main__.VDOM at 0x10f2f23c8>"]
          },
          "metadata": {},
          "output_type": "display_data"
        }
      ],
      "source": [
        "import time\n",
        "\n",
        "def marquee(children=None, **kwargs):\n",
        "    return {\n",
        "        'tagName': 'marquee',\n",
        "        'attributes': {\n",
        "            # Fold everything else in as props\n",
        "            # Note that we'd _really_ want to do some validation here\n",
        "            **kwargs\n",
        "        },\n",
        "        'children': children,\n",
        "\n",
        "    }\n",
        "\n",
        "h = display(VDOM(marquee('HERE WE GO VDOM')), display_id='vdom_marquee')\n",
        "time.sleep(1.5)\n",
        "\n",
        "for ii in range(12):\n",
        "    h.display(VDOM(marquee('😁')), update=True)\n",
        "    time.sleep(0.5)\n",
        "    h.display(VDOM(marquee('😁✌🏻')), update=True)\n",
        "    time.sleep(0.5)\n",
        "\nh.display(VDOM(h1('❤️ VDOM ❤️')), update=True)"
      ]
    },
    {
      "cell_type": "markdown",
      "metadata": {},
      "source": [
        "# Game time\n",
        "\nWe can use this to make a silly little game where you and your friends pick an emoji and watch as it shuffles through them."
      ]
    },
    {
      "cell_type": "code",
      "execution_count": 9,
      "metadata": {
        "collapsed": false,
        "outputExpanded": false
      },
      "outputs": [
        {
          "data": {
            "application/vdom.v1+json": {
              "attributes": {
                "style": {
                  "fontSize": "4em"
                }
              },
              "children": "WINNER 🐱",
              "tagName": "h1"
            },
            "text/plain": ["<__main__.VDOM at 0x10f2f2470>"]
          },
          "metadata": {},
          "output_type": "display_data"
        }
      ],
      "source": [
        "import secrets\n",
        "import time\n",
        "\n",
        "winner = \"\"\n",
        "\n",
        "# Each player should pick an emoji that you put into this array\n",
        "choices = [\"🥑\", \"🐰\", \"🤷\", \"🚁\", \"🐰\", \"🐱\"]\n",
        "  #  \"🍄\", \"🐱\", \"🚁\", \"☃\", \"🌀\", \"🏇\", \"🐼\", \"🦆\", \"🚀\", \"🎡\"]\n",
        "\n\n",
        "game = display(VDOM(h1('GAMETIME')), display_id=\"game\")\n",
        "\n",
        "for ii in range(40):\n",
        "    winner = secrets.choice(choices)\n",
        "    game.display(\n",
        "        VDOM(\n",
        "            marquee(winner, style={ \"fontSize\" : '4em' })\n",
        "        ),\n",
        "        update=True\n",
        "    )\n",
        "    time.sleep(0.1)\n",
        "\ngame.display(VDOM(h1('WINNER ' + winner, style={ \"fontSize\" : '4em' })), update=True)"
      ]
    },
    {
      "cell_type": "markdown",
      "metadata": {},
      "source": [
        "# Collapsible job progress views\n",
        "\nThat was good and fun, let's try something that would be useful for spark and other background jobs. We've also been making a lot of boilerplate to declare `marquee` and `h1`. Let's create a little wrapper to make new elements simply."
      ]
    },
    {
      "cell_type": "code",
      "execution_count": 10,
      "metadata": {
        "collapsed": false,
        "inputHidden": false,
        "outputHidden": false
      },
      "outputs": [],
      "source": [
        "def element(elementType):\n",
        "    def elemental(children=None, **kwargs):\n",
        "        return {\n",
        "            'tagName': elementType,\n",
        "            'attributes': {\n",
        "                # Fold everything else in as props\n",
        "                # Note that we'd _really_ want to do some validation here\n",
        "                # Likely using http://bit.ly/domprops\n",
        "                **kwargs\n",
        "            },\n",
        "            'children': children,\n",
        "\n",
        "        }\n",
        "    return elemental"
      ]
    },
    {
      "cell_type": "code",
      "execution_count": 11,
      "metadata": {
        "collapsed": false,
        "inputHidden": false,
        "outputHidden": false
      },
      "outputs": [
        {
          "data": {
            "application/vdom.v1+json": {
              "attributes": {},
              "children": [
                {
                  "attributes": {},
                  "children": "Now Incredibly Declarative",
                  "tagName": "h1"
                },
                {
                  "attributes": {},
                  "children": [
                    "Can you believe we wrote ",
                    {
                      "attributes": {},
                      "children": "all this from scratch",
                      "tagName": "b"
                    },
                    "?"
                  ],
                  "tagName": "p"
                },
                {
                  "attributes": {
                    "src": "https://media.giphy.com/media/xUPGcguWZHRC2HyBRS/giphy.gif"
                  },
                  "children": null,
                  "tagName": "img"
                },
                {
                  "attributes": {},
                  "children": "SO COOL!",
                  "tagName": "p"
                }
              ],
              "tagName": "div"
            },
            "text/plain": ["<__main__.VDOM at 0x10f303a20>"]
          },
          "execution_count": 11,
          "metadata": {},
          "output_type": "execute_result"
        }
      ],
      "source": [
        "bold = element('b')\n",
        "div = element('div')\n",
        "p = element('p')\n",
        "img = element('img')\n",
        "\n\n",
        "VDOM(\n",
        "    div([\n",
        "        h1('Now Incredibly Declarative'),\n",
        "        p(['Can you believe we wrote ', bold('all this from scratch'), '?']),\n",
        "        img(src=\"https://media.giphy.com/media/xUPGcguWZHRC2HyBRS/giphy.gif\"),\n",
        "        p('SO COOL!'),\n",
        "    ])\n",
        ")"
      ]
    },
    {
      "cell_type": "code",
      "execution_count": 12,
      "metadata": {
        "collapsed": false,
        "inputHidden": false,
        "outputHidden": false
      },
      "outputs": [],
      "source": [
        "details = element('details')\n",
        "summary = element('summary')\n",
        "progress = element('progress')"
      ]
    },
    {
      "cell_type": "code",
      "execution_count": 13,
      "metadata": {
        "collapsed": false,
        "inputHidden": false,
        "outputHidden": false
      },
      "outputs": [
        {
          "data": {
            "application/vdom.v1+json": {
              "attributes": {
                "open": true
              },
              "children": [
                {
                  "attributes": {},
                  "children": "Job Progress - toggle me",
                  "tagName": "summary"
                },
                {
                  "attributes": {
                    "max": 100,
                    "style": {
                      "appearance": "none",
                      "width": "100%"
                    },
                    "value": 100
                  },
                  "children": null,
                  "tagName": "progress"
                }
              ],
              "tagName": "details"
            },
            "text/plain": ["<__main__.VDOM at 0x10f2bfb70>"]
          },
          "metadata": {},
          "output_type": "display_data"
        }
      ],
      "source": [
        "progress_style= dict(width=\"100%\", appearance=\"none\")\n",
        "\n",
        "job_progress = display(\n",
        "    VDOM(\n",
        "        details([\n",
        "            summary(\"Job Progress\"),\n",
        "            progress(value=0, max=100, style=progress_style)\n",
        "        ], open=True)\n",
        "    ),\n",
        "    display_id=\"job_progression\"\n",
        ")\n",
        "\n",
        "for value in range(10, 105, 5):\n",
        "    time.sleep(0.2)\n",
        "\n",
        "    job_progress.display(VDOM(\n",
        "            details([\n",
        "                summary(\"Job Progress - toggle me\"),\n",
        "                progress(value=value, max=100, style=progress_style),\n",
        "                \n",
        "            ], open=True),\n",
        "        \n",
        "        ),\n",
        "        update=True)"
      ]
    },
    {
      "cell_type": "markdown",
      "metadata": {},
      "source": [
        "You can continue to refine these basic building blocks, building even richer UIs, all in declarative Python structures.\n",
        "\n",
        "The beauty of all this is that you can update these displays without forcing weird scrolling behavior on the users or changing the state of interactive controls on them.\n",
        "\n🎉 Here's to building cool things! 🎉"
      ]
    }
  ],
  "metadata": {
    "kernel_info": {
      "name": "python3"
    },
    "kernelspec": {
      "display_name": "Python 3",
      "language": "python",
      "name": "python3"
    },
    "language_info": {
      "codemirror_mode": {
        "name": "ipython",
        "version": 3
      },
      "file_extension": ".py",
      "mimetype": "text/x-python",
      "name": "python",
      "nbconvert_exporter": "python",
      "pygments_lexer": "ipython3",
      "version": "3.7.2"
    },
    "title": "Jupyter Transform"
  },
  "nbformat": 4,
  "nbformat_minor": 2
}
